{
 "cells": [
  {
   "cell_type": "code",
   "execution_count": 135,
   "id": "d5734483",
   "metadata": {},
   "outputs": [],
   "source": [
    "import pandas as pd\n",
    "import numpy as np\n",
    "import os\n",
    "import matplotlib.pyplot as plt\n"
   ]
  },
  {
   "cell_type": "code",
   "execution_count": 136,
   "id": "5884275a",
   "metadata": {},
   "outputs": [],
   "source": [
    "df = pd.read_excel('text.xlsx')"
   ]
  },
  {
   "cell_type": "code",
   "execution_count": 137,
   "id": "905adae4",
   "metadata": {},
   "outputs": [
    {
     "data": {
      "text/html": [
       "<div>\n",
       "<style scoped>\n",
       "    .dataframe tbody tr th:only-of-type {\n",
       "        vertical-align: middle;\n",
       "    }\n",
       "\n",
       "    .dataframe tbody tr th {\n",
       "        vertical-align: top;\n",
       "    }\n",
       "\n",
       "    .dataframe thead th {\n",
       "        text-align: right;\n",
       "    }\n",
       "</style>\n",
       "<table border=\"1\" class=\"dataframe\">\n",
       "  <thead>\n",
       "    <tr style=\"text-align: right;\">\n",
       "      <th></th>\n",
       "      <th>Text_files</th>\n",
       "      <th>Image_files</th>\n",
       "      <th>Mythological label</th>\n",
       "      <th>Tree Label</th>\n",
       "      <th>Animal Label</th>\n",
       "      <th>Content</th>\n",
       "    </tr>\n",
       "  </thead>\n",
       "  <tbody>\n",
       "    <tr>\n",
       "      <th>0</th>\n",
       "      <td>p01_01.txt</td>\n",
       "      <td>s01_01.jpg</td>\n",
       "      <td>1</td>\n",
       "      <td>0</td>\n",
       "      <td>1</td>\n",
       "      <td>Hail Durga, Ma Tara, destroyer of sorrows.\\nIn...</td>\n",
       "    </tr>\n",
       "    <tr>\n",
       "      <th>1</th>\n",
       "      <td>p01_02.txt</td>\n",
       "      <td>s01_02.jpg</td>\n",
       "      <td>1</td>\n",
       "      <td>1</td>\n",
       "      <td>0</td>\n",
       "      <td>One day, the goddess Durga bestowed her grace\\...</td>\n",
       "    </tr>\n",
       "    <tr>\n",
       "      <th>2</th>\n",
       "      <td>p01_03.txt</td>\n",
       "      <td>s01_03.jpg</td>\n",
       "      <td>1</td>\n",
       "      <td>0</td>\n",
       "      <td>0</td>\n",
       "      <td>Shouting “Hail Durga,” Srimonto boarded the bo...</td>\n",
       "    </tr>\n",
       "    <tr>\n",
       "      <th>3</th>\n",
       "      <td>p01_04.txt</td>\n",
       "      <td>s01_04.jpg</td>\n",
       "      <td>0</td>\n",
       "      <td>0</td>\n",
       "      <td>0</td>\n",
       "      <td>Finally, the boat docked at Ratnamala quay to ...</td>\n",
       "    </tr>\n",
       "    <tr>\n",
       "      <th>4</th>\n",
       "      <td>p01_05.txt</td>\n",
       "      <td>s01_05.jpg</td>\n",
       "      <td>0</td>\n",
       "      <td>0</td>\n",
       "      <td>0</td>\n",
       "      <td>The king Shalbahon was seated on a jewelled th...</td>\n",
       "    </tr>\n",
       "    <tr>\n",
       "      <th>...</th>\n",
       "      <td>...</td>\n",
       "      <td>...</td>\n",
       "      <td>...</td>\n",
       "      <td>...</td>\n",
       "      <td>...</td>\n",
       "      <td>...</td>\n",
       "    </tr>\n",
       "    <tr>\n",
       "      <th>101</th>\n",
       "      <td>p13_04.txt</td>\n",
       "      <td>s13_04.jpg</td>\n",
       "      <td>0</td>\n",
       "      <td>1</td>\n",
       "      <td>1</td>\n",
       "      <td>How beautiful the deer looked as it danced in ...</td>\n",
       "    </tr>\n",
       "    <tr>\n",
       "      <th>102</th>\n",
       "      <td>p13_05.txt</td>\n",
       "      <td>s13_05.jpg</td>\n",
       "      <td>1</td>\n",
       "      <td>1</td>\n",
       "      <td>0</td>\n",
       "      <td>The (dying) deer then began to cry out loud \\n...</td>\n",
       "    </tr>\n",
       "    <tr>\n",
       "      <th>103</th>\n",
       "      <td>p13_06.txt</td>\n",
       "      <td>s13_06.jpg</td>\n",
       "      <td>0</td>\n",
       "      <td>1</td>\n",
       "      <td>0</td>\n",
       "      <td>From under the shade of a banyan tree, Ravana ...</td>\n",
       "    </tr>\n",
       "    <tr>\n",
       "      <th>104</th>\n",
       "      <td>p13_07.txt</td>\n",
       "      <td>s13_07.jpg</td>\n",
       "      <td>1</td>\n",
       "      <td>0</td>\n",
       "      <td>1</td>\n",
       "      <td>And disgorged the chariot he had swallowed.\\nW...</td>\n",
       "    </tr>\n",
       "    <tr>\n",
       "      <th>105</th>\n",
       "      <td>p13_08.txt</td>\n",
       "      <td>s13_08.jpg</td>\n",
       "      <td>1</td>\n",
       "      <td>0</td>\n",
       "      <td>1</td>\n",
       "      <td>Speaking tenderly, Ramachandra looked at the (...</td>\n",
       "    </tr>\n",
       "  </tbody>\n",
       "</table>\n",
       "<p>106 rows × 6 columns</p>\n",
       "</div>"
      ],
      "text/plain": [
       "     Text_files Image_files  Mythological label  Tree Label  Animal Label  \\\n",
       "0    p01_01.txt  s01_01.jpg                   1           0             1   \n",
       "1    p01_02.txt  s01_02.jpg                   1           1             0   \n",
       "2    p01_03.txt  s01_03.jpg                   1           0             0   \n",
       "3    p01_04.txt  s01_04.jpg                   0           0             0   \n",
       "4    p01_05.txt  s01_05.jpg                   0           0             0   \n",
       "..          ...         ...                 ...         ...           ...   \n",
       "101  p13_04.txt  s13_04.jpg                   0           1             1   \n",
       "102  p13_05.txt  s13_05.jpg                   1           1             0   \n",
       "103  p13_06.txt  s13_06.jpg                   0           1             0   \n",
       "104  p13_07.txt  s13_07.jpg                   1           0             1   \n",
       "105  p13_08.txt  s13_08.jpg                   1           0             1   \n",
       "\n",
       "                                               Content  \n",
       "0    Hail Durga, Ma Tara, destroyer of sorrows.\\nIn...  \n",
       "1    One day, the goddess Durga bestowed her grace\\...  \n",
       "2    Shouting “Hail Durga,” Srimonto boarded the bo...  \n",
       "3    Finally, the boat docked at Ratnamala quay to ...  \n",
       "4    The king Shalbahon was seated on a jewelled th...  \n",
       "..                                                 ...  \n",
       "101  How beautiful the deer looked as it danced in ...  \n",
       "102  The (dying) deer then began to cry out loud \\n...  \n",
       "103  From under the shade of a banyan tree, Ravana ...  \n",
       "104  And disgorged the chariot he had swallowed.\\nW...  \n",
       "105  Speaking tenderly, Ramachandra looked at the (...  \n",
       "\n",
       "[106 rows x 6 columns]"
      ]
     },
     "execution_count": 137,
     "metadata": {},
     "output_type": "execute_result"
    }
   ],
   "source": [
    "df"
   ]
  },
  {
   "cell_type": "code",
   "execution_count": null,
   "id": "05993c71",
   "metadata": {},
   "outputs": [],
   "source": []
  },
  {
   "cell_type": "code",
   "execution_count": 138,
   "id": "7dc5f23d",
   "metadata": {},
   "outputs": [
    {
     "data": {
      "text/plain": [
       "'Hail Durga, Ma Tara, destroyer of sorrows.\\nInvincible as the strong southern winds, she is Nagendranandini (daughter of the king of mountains).\\nAs Ma Chandi, her ten arms stretch in ten directions.\\nHer third eye shines brightly in the middle of her forehead.\\nLakshmi, with Saraswati on her left, Kartik and Ganesh\\nAlong with the lion, the Asura, Joya and Bijoya accompany the Mother. \\n'"
      ]
     },
     "execution_count": 138,
     "metadata": {},
     "output_type": "execute_result"
    }
   ],
   "source": [
    "aa"
   ]
  },
  {
   "cell_type": "code",
   "execution_count": 139,
   "id": "c337c6e6",
   "metadata": {},
   "outputs": [],
   "source": [
    "contents = []\n",
    "for file_name in df.Text_files:\n",
    "    with open(file_name, 'r') as file:\n",
    "        contents.append(file.read())"
   ]
  },
  {
   "cell_type": "code",
   "execution_count": 140,
   "id": "cf5aa737",
   "metadata": {},
   "outputs": [],
   "source": [
    "df['Content'] = contents"
   ]
  },
  {
   "cell_type": "code",
   "execution_count": 141,
   "id": "330ae70a",
   "metadata": {},
   "outputs": [
    {
     "data": {
      "text/html": [
       "<div>\n",
       "<style scoped>\n",
       "    .dataframe tbody tr th:only-of-type {\n",
       "        vertical-align: middle;\n",
       "    }\n",
       "\n",
       "    .dataframe tbody tr th {\n",
       "        vertical-align: top;\n",
       "    }\n",
       "\n",
       "    .dataframe thead th {\n",
       "        text-align: right;\n",
       "    }\n",
       "</style>\n",
       "<table border=\"1\" class=\"dataframe\">\n",
       "  <thead>\n",
       "    <tr style=\"text-align: right;\">\n",
       "      <th></th>\n",
       "      <th>Text_files</th>\n",
       "      <th>Image_files</th>\n",
       "      <th>Mythological label</th>\n",
       "      <th>Tree Label</th>\n",
       "      <th>Animal Label</th>\n",
       "      <th>Content</th>\n",
       "    </tr>\n",
       "  </thead>\n",
       "  <tbody>\n",
       "    <tr>\n",
       "      <th>0</th>\n",
       "      <td>p01_01.txt</td>\n",
       "      <td>s01_01.jpg</td>\n",
       "      <td>1</td>\n",
       "      <td>0</td>\n",
       "      <td>1</td>\n",
       "      <td>Hail Durga, Ma Tara, destroyer of sorrows.\\nIn...</td>\n",
       "    </tr>\n",
       "    <tr>\n",
       "      <th>1</th>\n",
       "      <td>p01_02.txt</td>\n",
       "      <td>s01_02.jpg</td>\n",
       "      <td>1</td>\n",
       "      <td>1</td>\n",
       "      <td>0</td>\n",
       "      <td>One day, the goddess Durga bestowed her grace\\...</td>\n",
       "    </tr>\n",
       "    <tr>\n",
       "      <th>2</th>\n",
       "      <td>p01_03.txt</td>\n",
       "      <td>s01_03.jpg</td>\n",
       "      <td>1</td>\n",
       "      <td>0</td>\n",
       "      <td>0</td>\n",
       "      <td>Shouting “Hail Durga,” Srimonto boarded the bo...</td>\n",
       "    </tr>\n",
       "    <tr>\n",
       "      <th>3</th>\n",
       "      <td>p01_04.txt</td>\n",
       "      <td>s01_04.jpg</td>\n",
       "      <td>0</td>\n",
       "      <td>0</td>\n",
       "      <td>0</td>\n",
       "      <td>Finally, the boat docked at Ratnamala quay to ...</td>\n",
       "    </tr>\n",
       "    <tr>\n",
       "      <th>4</th>\n",
       "      <td>p01_05.txt</td>\n",
       "      <td>s01_05.jpg</td>\n",
       "      <td>0</td>\n",
       "      <td>0</td>\n",
       "      <td>0</td>\n",
       "      <td>The king Shalbahon was seated on a jewelled th...</td>\n",
       "    </tr>\n",
       "    <tr>\n",
       "      <th>...</th>\n",
       "      <td>...</td>\n",
       "      <td>...</td>\n",
       "      <td>...</td>\n",
       "      <td>...</td>\n",
       "      <td>...</td>\n",
       "      <td>...</td>\n",
       "    </tr>\n",
       "    <tr>\n",
       "      <th>101</th>\n",
       "      <td>p13_04.txt</td>\n",
       "      <td>s13_04.jpg</td>\n",
       "      <td>0</td>\n",
       "      <td>1</td>\n",
       "      <td>1</td>\n",
       "      <td>How beautiful the deer looked as it danced in ...</td>\n",
       "    </tr>\n",
       "    <tr>\n",
       "      <th>102</th>\n",
       "      <td>p13_05.txt</td>\n",
       "      <td>s13_05.jpg</td>\n",
       "      <td>1</td>\n",
       "      <td>1</td>\n",
       "      <td>0</td>\n",
       "      <td>The (dying) deer then began to cry out loud \\n...</td>\n",
       "    </tr>\n",
       "    <tr>\n",
       "      <th>103</th>\n",
       "      <td>p13_06.txt</td>\n",
       "      <td>s13_06.jpg</td>\n",
       "      <td>0</td>\n",
       "      <td>1</td>\n",
       "      <td>0</td>\n",
       "      <td>From under the shade of a banyan tree, Ravana ...</td>\n",
       "    </tr>\n",
       "    <tr>\n",
       "      <th>104</th>\n",
       "      <td>p13_07.txt</td>\n",
       "      <td>s13_07.jpg</td>\n",
       "      <td>1</td>\n",
       "      <td>0</td>\n",
       "      <td>1</td>\n",
       "      <td>And disgorged the chariot he had swallowed.\\nW...</td>\n",
       "    </tr>\n",
       "    <tr>\n",
       "      <th>105</th>\n",
       "      <td>p13_08.txt</td>\n",
       "      <td>s13_08.jpg</td>\n",
       "      <td>1</td>\n",
       "      <td>0</td>\n",
       "      <td>1</td>\n",
       "      <td>Speaking tenderly, Ramachandra looked at the (...</td>\n",
       "    </tr>\n",
       "  </tbody>\n",
       "</table>\n",
       "<p>106 rows × 6 columns</p>\n",
       "</div>"
      ],
      "text/plain": [
       "     Text_files Image_files  Mythological label  Tree Label  Animal Label  \\\n",
       "0    p01_01.txt  s01_01.jpg                   1           0             1   \n",
       "1    p01_02.txt  s01_02.jpg                   1           1             0   \n",
       "2    p01_03.txt  s01_03.jpg                   1           0             0   \n",
       "3    p01_04.txt  s01_04.jpg                   0           0             0   \n",
       "4    p01_05.txt  s01_05.jpg                   0           0             0   \n",
       "..          ...         ...                 ...         ...           ...   \n",
       "101  p13_04.txt  s13_04.jpg                   0           1             1   \n",
       "102  p13_05.txt  s13_05.jpg                   1           1             0   \n",
       "103  p13_06.txt  s13_06.jpg                   0           1             0   \n",
       "104  p13_07.txt  s13_07.jpg                   1           0             1   \n",
       "105  p13_08.txt  s13_08.jpg                   1           0             1   \n",
       "\n",
       "                                               Content  \n",
       "0    Hail Durga, Ma Tara, destroyer of sorrows.\\nIn...  \n",
       "1    One day, the goddess Durga bestowed her grace\\...  \n",
       "2    Shouting “Hail Durga,” Srimonto boarded the bo...  \n",
       "3    Finally, the boat docked at Ratnamala quay to ...  \n",
       "4    The king Shalbahon was seated on a jewelled th...  \n",
       "..                                                 ...  \n",
       "101  How beautiful the deer looked as it danced in ...  \n",
       "102  The (dying) deer then began to cry out loud \\n...  \n",
       "103  From under the shade of a banyan tree, Ravana ...  \n",
       "104  And disgorged the chariot he had swallowed.\\nW...  \n",
       "105  Speaking tenderly, Ramachandra looked at the (...  \n",
       "\n",
       "[106 rows x 6 columns]"
      ]
     },
     "execution_count": 141,
     "metadata": {},
     "output_type": "execute_result"
    }
   ],
   "source": [
    "df"
   ]
  },
  {
   "cell_type": "code",
   "execution_count": 142,
   "id": "84a6069d",
   "metadata": {},
   "outputs": [],
   "source": [
    "df.to_excel('text.xlsx', index= False)"
   ]
  },
  {
   "cell_type": "code",
   "execution_count": 143,
   "id": "9df14236",
   "metadata": {},
   "outputs": [],
   "source": [
    "from sklearn.feature_extraction.text import CountVectorizer\n",
    "from sklearn.feature_extraction.text import TfidfTransformer\n",
    "from sklearn.feature_extraction.text import TfidfVectorizer\n",
    "\n",
    "text= df.Content.tolist()"
   ]
  },
  {
   "cell_type": "code",
   "execution_count": 144,
   "id": "6f70b833",
   "metadata": {
    "scrolled": true
   },
   "outputs": [
    {
     "name": "stdout",
     "output_type": "stream",
     "text": [
      "(106, 1621)\n",
      "  (0, 630)\t1\n",
      "  (0, 432)\t1\n",
      "  (0, 847)\t2\n",
      "  (0, 1382)\t1\n",
      "  (0, 375)\t1\n",
      "  (0, 965)\t4\n",
      "  (0, 1315)\t1\n",
      "  (0, 727)\t1\n",
      "  (0, 73)\t2\n",
      "  (0, 1402)\t6\n",
      "  (0, 1354)\t1\n",
      "  (0, 1318)\t1\n",
      "  (0, 1570)\t1\n",
      "  (0, 1243)\t1\n",
      "  (0, 730)\t1\n",
      "  (0, 925)\t1\n",
      "  (0, 350)\t1\n",
      "  (0, 774)\t1\n",
      "  (0, 916)\t1\n",
      "  (0, 252)\t1\n",
      "  (0, 666)\t4\n",
      "  (0, 1391)\t2\n",
      "  (0, 66)\t1\n",
      "  (0, 1350)\t1\n",
      "  (0, 717)\t2\n",
      "  :\t:\n",
      "  (105, 139)\t1\n",
      "  (105, 1379)\t1\n",
      "  (105, 1275)\t4\n",
      "  (105, 1103)\t1\n",
      "  (105, 834)\t1\n",
      "  (105, 436)\t1\n",
      "  (105, 1097)\t2\n",
      "  (105, 1096)\t3\n",
      "  (105, 1392)\t1\n",
      "  (105, 578)\t1\n",
      "  (105, 1386)\t1\n",
      "  (105, 914)\t1\n",
      "  (105, 1598)\t1\n",
      "  (105, 1128)\t1\n",
      "  (105, 579)\t1\n",
      "  (105, 1089)\t1\n",
      "  (105, 4)\t1\n",
      "  (105, 372)\t1\n",
      "  (105, 619)\t1\n",
      "  (105, 1263)\t1\n",
      "  (105, 78)\t1\n",
      "  (105, 253)\t1\n",
      "  (105, 1399)\t1\n",
      "  (105, 1276)\t1\n",
      "  (105, 999)\t1\n"
     ]
    }
   ],
   "source": [
    "count = CountVectorizer()\n",
    "word_count=count.fit_transform(text)\n",
    "print(word_count.shape)\n",
    "print(word_count)"
   ]
  },
  {
   "cell_type": "code",
   "execution_count": 145,
   "id": "9df01265",
   "metadata": {},
   "outputs": [],
   "source": [
    "tfidf_transformer=TfidfTransformer(smooth_idf=True,use_idf=True)\n",
    "tfidf_transformer.fit(word_count)\n",
    "df_idf = pd.DataFrame(tfidf_transformer.idf_, index=count.get_feature_names(),columns=[\"idf_weights\"])"
   ]
  },
  {
   "cell_type": "code",
   "execution_count": 146,
   "id": "59a579ca",
   "metadata": {},
   "outputs": [
    {
     "data": {
      "text/html": [
       "<div>\n",
       "<style scoped>\n",
       "    .dataframe tbody tr th:only-of-type {\n",
       "        vertical-align: middle;\n",
       "    }\n",
       "\n",
       "    .dataframe tbody tr th {\n",
       "        vertical-align: top;\n",
       "    }\n",
       "\n",
       "    .dataframe thead th {\n",
       "        text-align: right;\n",
       "    }\n",
       "</style>\n",
       "<table border=\"1\" class=\"dataframe\">\n",
       "  <thead>\n",
       "    <tr style=\"text-align: right;\">\n",
       "      <th></th>\n",
       "      <th>idf_weights</th>\n",
       "    </tr>\n",
       "  </thead>\n",
       "  <tbody>\n",
       "    <tr>\n",
       "      <th>the</th>\n",
       "      <td>1.038100</td>\n",
       "    </tr>\n",
       "    <tr>\n",
       "      <th>and</th>\n",
       "      <td>1.253988</td>\n",
       "    </tr>\n",
       "    <tr>\n",
       "      <th>of</th>\n",
       "      <td>1.290802</td>\n",
       "    </tr>\n",
       "    <tr>\n",
       "      <th>to</th>\n",
       "      <td>1.329023</td>\n",
       "    </tr>\n",
       "    <tr>\n",
       "      <th>in</th>\n",
       "      <td>1.355341</td>\n",
       "    </tr>\n",
       "    <tr>\n",
       "      <th>...</th>\n",
       "      <td>...</td>\n",
       "    </tr>\n",
       "    <tr>\n",
       "      <th>looks</th>\n",
       "      <td>4.979682</td>\n",
       "    </tr>\n",
       "    <tr>\n",
       "      <th>love</th>\n",
       "      <td>4.979682</td>\n",
       "    </tr>\n",
       "    <tr>\n",
       "      <th>madhusudan</th>\n",
       "      <td>4.979682</td>\n",
       "    </tr>\n",
       "    <tr>\n",
       "      <th>layers</th>\n",
       "      <td>4.979682</td>\n",
       "    </tr>\n",
       "    <tr>\n",
       "      <th>yours</th>\n",
       "      <td>4.979682</td>\n",
       "    </tr>\n",
       "  </tbody>\n",
       "</table>\n",
       "<p>1621 rows × 1 columns</p>\n",
       "</div>"
      ],
      "text/plain": [
       "            idf_weights\n",
       "the            1.038100\n",
       "and            1.253988\n",
       "of             1.290802\n",
       "to             1.329023\n",
       "in             1.355341\n",
       "...                 ...\n",
       "looks          4.979682\n",
       "love           4.979682\n",
       "madhusudan     4.979682\n",
       "layers         4.979682\n",
       "yours          4.979682\n",
       "\n",
       "[1621 rows x 1 columns]"
      ]
     },
     "execution_count": 146,
     "metadata": {},
     "output_type": "execute_result"
    }
   ],
   "source": [
    "df_idf.sort_values(by=['idf_weights'])"
   ]
  },
  {
   "cell_type": "code",
   "execution_count": 147,
   "id": "0d5f1b4f",
   "metadata": {},
   "outputs": [],
   "source": [
    "#tfidf\n",
    "tf_idf_vector=tfidf_transformer.transform(word_count)\n",
    "feature_names = count.get_feature_names()"
   ]
  },
  {
   "cell_type": "code",
   "execution_count": 148,
   "id": "73a55f45",
   "metadata": {},
   "outputs": [
    {
     "data": {
      "text/html": [
       "<div>\n",
       "<style scoped>\n",
       "    .dataframe tbody tr th:only-of-type {\n",
       "        vertical-align: middle;\n",
       "    }\n",
       "\n",
       "    .dataframe tbody tr th {\n",
       "        vertical-align: top;\n",
       "    }\n",
       "\n",
       "    .dataframe thead th {\n",
       "        text-align: right;\n",
       "    }\n",
       "</style>\n",
       "<table border=\"1\" class=\"dataframe\">\n",
       "  <thead>\n",
       "    <tr style=\"text-align: right;\">\n",
       "      <th></th>\n",
       "      <th>tfidf</th>\n",
       "    </tr>\n",
       "  </thead>\n",
       "  <tbody>\n",
       "    <tr>\n",
       "      <th>khullona</th>\n",
       "      <td>0.313386</td>\n",
       "    </tr>\n",
       "    <tr>\n",
       "      <th>the</th>\n",
       "      <td>0.209560</td>\n",
       "    </tr>\n",
       "    <tr>\n",
       "      <th>durga</th>\n",
       "      <td>0.188215</td>\n",
       "    </tr>\n",
       "    <tr>\n",
       "      <th>kalketu</th>\n",
       "      <td>0.184678</td>\n",
       "    </tr>\n",
       "    <tr>\n",
       "      <th>pomegranate</th>\n",
       "      <td>0.184678</td>\n",
       "    </tr>\n",
       "    <tr>\n",
       "      <th>...</th>\n",
       "      <td>...</td>\n",
       "    </tr>\n",
       "    <tr>\n",
       "      <th>forms</th>\n",
       "      <td>0.000000</td>\n",
       "    </tr>\n",
       "    <tr>\n",
       "      <th>form</th>\n",
       "      <td>0.000000</td>\n",
       "    </tr>\n",
       "    <tr>\n",
       "      <th>forget</th>\n",
       "      <td>0.000000</td>\n",
       "    </tr>\n",
       "    <tr>\n",
       "      <th>forever</th>\n",
       "      <td>0.000000</td>\n",
       "    </tr>\n",
       "    <tr>\n",
       "      <th>yours</th>\n",
       "      <td>0.000000</td>\n",
       "    </tr>\n",
       "  </tbody>\n",
       "</table>\n",
       "<p>1621 rows × 1 columns</p>\n",
       "</div>"
      ],
      "text/plain": [
       "                tfidf\n",
       "khullona     0.313386\n",
       "the          0.209560\n",
       "durga        0.188215\n",
       "kalketu      0.184678\n",
       "pomegranate  0.184678\n",
       "...               ...\n",
       "forms        0.000000\n",
       "form         0.000000\n",
       "forget       0.000000\n",
       "forever      0.000000\n",
       "yours        0.000000\n",
       "\n",
       "[1621 rows x 1 columns]"
      ]
     },
     "execution_count": 148,
     "metadata": {},
     "output_type": "execute_result"
    }
   ],
   "source": [
    "first_document_vector=tf_idf_vector[1]\n",
    "df_tfifd= pd.DataFrame(first_document_vector.T.todense(), index=feature_names, columns=[\"tfidf\"])\n",
    "df_tfifd.sort_values(by=[\"tfidf\"],ascending=False)\n"
   ]
  },
  {
   "cell_type": "code",
   "execution_count": 149,
   "id": "b7784a76",
   "metadata": {},
   "outputs": [],
   "source": [
    "from sklearn.naive_bayes import MultinomialNB\n",
    "from sklearn import metrics\n",
    "import nltk\n",
    "import re\n",
    "import string\n",
    "from nltk.stem import WordNetLemmatizer"
   ]
  },
  {
   "cell_type": "code",
   "execution_count": 150,
   "id": "fa298354",
   "metadata": {},
   "outputs": [],
   "source": [
    "# train_csv = \n",
    "train_csv = df[['Content', 'Mythological label']].sample(frac=0.7)"
   ]
  },
  {
   "cell_type": "code",
   "execution_count": 151,
   "id": "3ef4fd80",
   "metadata": {},
   "outputs": [],
   "source": [
    "test_csv = df[['Content', 'Mythological label']].loc[[idx for idx in df.index if idx not in train_csv.index]]"
   ]
  },
  {
   "cell_type": "code",
   "execution_count": 152,
   "id": "4c36ca83",
   "metadata": {},
   "outputs": [],
   "source": [
    "test_csv.reset_index(drop= True, inplace= True)\n",
    "train_csv.reset_index(drop= True, inplace= True)"
   ]
  },
  {
   "cell_type": "code",
   "execution_count": 153,
   "id": "4e10fcda",
   "metadata": {},
   "outputs": [
    {
     "name": "stdout",
     "output_type": "stream",
     "text": [
      "showing info https://raw.githubusercontent.com/nltk/nltk_data/gh-pages/index.xml\n"
     ]
    },
    {
     "ename": "KeyboardInterrupt",
     "evalue": "",
     "output_type": "error",
     "traceback": [
      "\u001b[0;31m---------------------------------------------------------------------------\u001b[0m",
      "\u001b[0;31mKeyboardInterrupt\u001b[0m                         Traceback (most recent call last)",
      "\u001b[0;32m/var/folders/df/hzy2p155245f9djqzy_rff8w0000gn/T/ipykernel_5551/3506944695.py\u001b[0m in \u001b[0;36m<module>\u001b[0;34m\u001b[0m\n\u001b[0;32m----> 1\u001b[0;31m \u001b[0mnltk\u001b[0m\u001b[0;34m.\u001b[0m\u001b[0mdownload\u001b[0m\u001b[0;34m(\u001b[0m\u001b[0;34m)\u001b[0m\u001b[0;34m\u001b[0m\u001b[0;34m\u001b[0m\u001b[0m\n\u001b[0m",
      "\u001b[0;32m/Applications/anaconda3/lib/python3.9/site-packages/nltk/downloader.py\u001b[0m in \u001b[0;36mdownload\u001b[0;34m(self, info_or_id, download_dir, quiet, force, prefix, halt_on_error, raise_on_error, print_error_to)\u001b[0m\n\u001b[1;32m    760\u001b[0m             \u001b[0;32mif\u001b[0m \u001b[0mdownload_dir\u001b[0m \u001b[0;32mis\u001b[0m \u001b[0;32mnot\u001b[0m \u001b[0;32mNone\u001b[0m\u001b[0;34m:\u001b[0m\u001b[0;34m\u001b[0m\u001b[0;34m\u001b[0m\u001b[0m\n\u001b[1;32m    761\u001b[0m                 \u001b[0mself\u001b[0m\u001b[0;34m.\u001b[0m\u001b[0m_download_dir\u001b[0m \u001b[0;34m=\u001b[0m \u001b[0mdownload_dir\u001b[0m\u001b[0;34m\u001b[0m\u001b[0;34m\u001b[0m\u001b[0m\n\u001b[0;32m--> 762\u001b[0;31m             \u001b[0mself\u001b[0m\u001b[0;34m.\u001b[0m\u001b[0m_interactive_download\u001b[0m\u001b[0;34m(\u001b[0m\u001b[0;34m)\u001b[0m\u001b[0;34m\u001b[0m\u001b[0;34m\u001b[0m\u001b[0m\n\u001b[0m\u001b[1;32m    763\u001b[0m             \u001b[0;32mreturn\u001b[0m \u001b[0;32mTrue\u001b[0m\u001b[0;34m\u001b[0m\u001b[0;34m\u001b[0m\u001b[0m\n\u001b[1;32m    764\u001b[0m \u001b[0;34m\u001b[0m\u001b[0m\n",
      "\u001b[0;32m/Applications/anaconda3/lib/python3.9/site-packages/nltk/downloader.py\u001b[0m in \u001b[0;36m_interactive_download\u001b[0;34m(self)\u001b[0m\n\u001b[1;32m   1110\u001b[0m         \u001b[0;32mif\u001b[0m \u001b[0mTKINTER\u001b[0m\u001b[0;34m:\u001b[0m\u001b[0;34m\u001b[0m\u001b[0;34m\u001b[0m\u001b[0m\n\u001b[1;32m   1111\u001b[0m             \u001b[0;32mtry\u001b[0m\u001b[0;34m:\u001b[0m\u001b[0;34m\u001b[0m\u001b[0;34m\u001b[0m\u001b[0m\n\u001b[0;32m-> 1112\u001b[0;31m                 \u001b[0mDownloaderGUI\u001b[0m\u001b[0;34m(\u001b[0m\u001b[0mself\u001b[0m\u001b[0;34m)\u001b[0m\u001b[0;34m.\u001b[0m\u001b[0mmainloop\u001b[0m\u001b[0;34m(\u001b[0m\u001b[0;34m)\u001b[0m\u001b[0;34m\u001b[0m\u001b[0;34m\u001b[0m\u001b[0m\n\u001b[0m\u001b[1;32m   1113\u001b[0m             \u001b[0;32mexcept\u001b[0m \u001b[0mTclError\u001b[0m\u001b[0;34m:\u001b[0m\u001b[0;34m\u001b[0m\u001b[0;34m\u001b[0m\u001b[0m\n\u001b[1;32m   1114\u001b[0m                 \u001b[0mDownloaderShell\u001b[0m\u001b[0;34m(\u001b[0m\u001b[0mself\u001b[0m\u001b[0;34m)\u001b[0m\u001b[0;34m.\u001b[0m\u001b[0mrun\u001b[0m\u001b[0;34m(\u001b[0m\u001b[0;34m)\u001b[0m\u001b[0;34m\u001b[0m\u001b[0;34m\u001b[0m\u001b[0m\n",
      "\u001b[0;32m/Applications/anaconda3/lib/python3.9/site-packages/nltk/downloader.py\u001b[0m in \u001b[0;36mmainloop\u001b[0;34m(self, *args, **kwargs)\u001b[0m\n\u001b[1;32m   1929\u001b[0m \u001b[0;34m\u001b[0m\u001b[0m\n\u001b[1;32m   1930\u001b[0m     \u001b[0;32mdef\u001b[0m \u001b[0mmainloop\u001b[0m\u001b[0;34m(\u001b[0m\u001b[0mself\u001b[0m\u001b[0;34m,\u001b[0m \u001b[0;34m*\u001b[0m\u001b[0margs\u001b[0m\u001b[0;34m,\u001b[0m \u001b[0;34m**\u001b[0m\u001b[0mkwargs\u001b[0m\u001b[0;34m)\u001b[0m\u001b[0;34m:\u001b[0m\u001b[0;34m\u001b[0m\u001b[0;34m\u001b[0m\u001b[0m\n\u001b[0;32m-> 1931\u001b[0;31m         \u001b[0mself\u001b[0m\u001b[0;34m.\u001b[0m\u001b[0mtop\u001b[0m\u001b[0;34m.\u001b[0m\u001b[0mmainloop\u001b[0m\u001b[0;34m(\u001b[0m\u001b[0;34m*\u001b[0m\u001b[0margs\u001b[0m\u001b[0;34m,\u001b[0m \u001b[0;34m**\u001b[0m\u001b[0mkwargs\u001b[0m\u001b[0;34m)\u001b[0m\u001b[0;34m\u001b[0m\u001b[0;34m\u001b[0m\u001b[0m\n\u001b[0m\u001b[1;32m   1932\u001b[0m \u001b[0;34m\u001b[0m\u001b[0m\n\u001b[1;32m   1933\u001b[0m     \u001b[0;31m# /////////////////////////////////////////////////////////////////\u001b[0m\u001b[0;34m\u001b[0m\u001b[0;34m\u001b[0m\u001b[0m\n",
      "\u001b[0;32m/Applications/anaconda3/lib/python3.9/tkinter/__init__.py\u001b[0m in \u001b[0;36mmainloop\u001b[0;34m(self, n)\u001b[0m\n\u001b[1;32m   1427\u001b[0m     \u001b[0;32mdef\u001b[0m \u001b[0mmainloop\u001b[0m\u001b[0;34m(\u001b[0m\u001b[0mself\u001b[0m\u001b[0;34m,\u001b[0m \u001b[0mn\u001b[0m\u001b[0;34m=\u001b[0m\u001b[0;36m0\u001b[0m\u001b[0;34m)\u001b[0m\u001b[0;34m:\u001b[0m\u001b[0;34m\u001b[0m\u001b[0;34m\u001b[0m\u001b[0m\n\u001b[1;32m   1428\u001b[0m         \u001b[0;34m\"\"\"Call the mainloop of Tk.\"\"\"\u001b[0m\u001b[0;34m\u001b[0m\u001b[0;34m\u001b[0m\u001b[0m\n\u001b[0;32m-> 1429\u001b[0;31m         \u001b[0mself\u001b[0m\u001b[0;34m.\u001b[0m\u001b[0mtk\u001b[0m\u001b[0;34m.\u001b[0m\u001b[0mmainloop\u001b[0m\u001b[0;34m(\u001b[0m\u001b[0mn\u001b[0m\u001b[0;34m)\u001b[0m\u001b[0;34m\u001b[0m\u001b[0;34m\u001b[0m\u001b[0m\n\u001b[0m\u001b[1;32m   1430\u001b[0m \u001b[0;34m\u001b[0m\u001b[0m\n\u001b[1;32m   1431\u001b[0m     \u001b[0;32mdef\u001b[0m \u001b[0mquit\u001b[0m\u001b[0;34m(\u001b[0m\u001b[0mself\u001b[0m\u001b[0;34m)\u001b[0m\u001b[0;34m:\u001b[0m\u001b[0;34m\u001b[0m\u001b[0;34m\u001b[0m\u001b[0m\n",
      "\u001b[0;31mKeyboardInterrupt\u001b[0m: "
     ]
    }
   ],
   "source": [
    "nltk.download()"
   ]
  },
  {
   "cell_type": "code",
   "execution_count": 154,
   "id": "db0b0e6b",
   "metadata": {},
   "outputs": [],
   "source": [
    "#stopword removal and lemmatization\n",
    "stopwords = nltk.corpus.stopwords.words('english')\n",
    "lemmatizer = WordNetLemmatizer()\n",
    "\n"
   ]
  },
  {
   "cell_type": "code",
   "execution_count": 155,
   "id": "fdf8df3f",
   "metadata": {},
   "outputs": [
    {
     "data": {
      "text/html": [
       "<div>\n",
       "<style scoped>\n",
       "    .dataframe tbody tr th:only-of-type {\n",
       "        vertical-align: middle;\n",
       "    }\n",
       "\n",
       "    .dataframe tbody tr th {\n",
       "        vertical-align: top;\n",
       "    }\n",
       "\n",
       "    .dataframe thead th {\n",
       "        text-align: right;\n",
       "    }\n",
       "</style>\n",
       "<table border=\"1\" class=\"dataframe\">\n",
       "  <thead>\n",
       "    <tr style=\"text-align: right;\">\n",
       "      <th></th>\n",
       "      <th>Content</th>\n",
       "      <th>Mythological label</th>\n",
       "    </tr>\n",
       "  </thead>\n",
       "  <tbody>\n",
       "    <tr>\n",
       "      <th>0</th>\n",
       "      <td>(Responds Radha:) “Let Nanda Ghosh (Krishna’s ...</td>\n",
       "      <td>0</td>\n",
       "    </tr>\n",
       "    <tr>\n",
       "      <th>1</th>\n",
       "      <td>And disgorged the chariot he had swallowed.\\nW...</td>\n",
       "      <td>1</td>\n",
       "    </tr>\n",
       "    <tr>\n",
       "      <th>2</th>\n",
       "      <td>“You are such a handsome boatman, (but) your b...</td>\n",
       "      <td>0</td>\n",
       "    </tr>\n",
       "    <tr>\n",
       "      <th>3</th>\n",
       "      <td>“There is only one I dread - let him not retur...</td>\n",
       "      <td>1</td>\n",
       "    </tr>\n",
       "    <tr>\n",
       "      <th>4</th>\n",
       "      <td>Hail the vanquisher of poison—Manasa, the grac...</td>\n",
       "      <td>1</td>\n",
       "    </tr>\n",
       "  </tbody>\n",
       "</table>\n",
       "</div>"
      ],
      "text/plain": [
       "                                             Content  Mythological label\n",
       "0  (Responds Radha:) “Let Nanda Ghosh (Krishna’s ...                   0\n",
       "1  And disgorged the chariot he had swallowed.\\nW...                   1\n",
       "2  “You are such a handsome boatman, (but) your b...                   0\n",
       "3  “There is only one I dread - let him not retur...                   1\n",
       "4  Hail the vanquisher of poison—Manasa, the grac...                   1"
      ]
     },
     "execution_count": 155,
     "metadata": {},
     "output_type": "execute_result"
    }
   ],
   "source": [
    "train_csv.head()\n"
   ]
  },
  {
   "cell_type": "code",
   "execution_count": 156,
   "id": "0b461993",
   "metadata": {
    "scrolled": true
   },
   "outputs": [],
   "source": [
    "train_X_non = train_csv['Content']   # 'Content' refers to the review text\n",
    "train_y = train_csv['Mythological label']   # 'Mythological label' corresponds to Label (1 - positive and 0 - negative)\n",
    "test_X_non = test_csv['Content']\n",
    "test_y = test_csv['Mythological label']\n",
    "train_X=[]\n",
    "test_X=[]"
   ]
  },
  {
   "cell_type": "code",
   "execution_count": 157,
   "id": "a4ce11e1",
   "metadata": {},
   "outputs": [],
   "source": [
    "#text pre processing\n",
    "for i in range(0, len(train_X_non)):\n",
    "    review = re.sub('[^a-zA-Z]', ' ', train_X_non[i])\n",
    "    review = review.lower()\n",
    "    review = review.split()\n",
    "    review = [lemmatizer.lemmatize(word) for word in review if not word in set(stopwords)]\n",
    "    review = ' '.join(review)\n",
    "    train_X.append(review)"
   ]
  },
  {
   "cell_type": "code",
   "execution_count": 158,
   "id": "102b47a4",
   "metadata": {},
   "outputs": [],
   "source": [
    "for i in range(0, len(test_X_non)):\n",
    "    review = re.sub('[^a-zA-Z]', ' ', test_X_non[i])\n",
    "    review = review.lower()\n",
    "    review = review.split()\n",
    "    review = [lemmatizer.lemmatize(word) for word in review if not word in set(stopwords)]\n",
    "    review = ' '.join(review)\n",
    "    test_X.append(review)"
   ]
  },
  {
   "cell_type": "code",
   "execution_count": 159,
   "id": "4cda952d",
   "metadata": {},
   "outputs": [],
   "source": [
    "tf_idf = TfidfVectorizer()\n",
    "#applying tf idf to training data\n",
    "X_train_tf = tf_idf.fit_transform(train_X)\n",
    "#applying tf idf to training data\n",
    "X_train_tf = tf_idf.transform(train_X)\n",
    "X_test_tf = tf_idf.transform(test_X)"
   ]
  },
  {
   "cell_type": "code",
   "execution_count": 160,
   "id": "1027e0c0",
   "metadata": {},
   "outputs": [
    {
     "name": "stdout",
     "output_type": "stream",
     "text": [
      "(Responds Radha:) “Let Nanda Ghosh (Krishna’s adoptive father) come here and I shall fix you.\n",
      "“The cows of your shed shall be sold and I shall humble you.”\n",
      "\n"
     ]
    }
   ],
   "source": [
    "print(train_csv.iloc[0,0])"
   ]
  },
  {
   "cell_type": "code",
   "execution_count": 161,
   "id": "5049bc0e",
   "metadata": {},
   "outputs": [
    {
     "data": {
      "text/plain": [
       "'responds radha let nanda ghosh krishna adoptive father come shall fix cow shed shall sold shall humble'"
      ]
     },
     "execution_count": 161,
     "metadata": {},
     "output_type": "execute_result"
    }
   ],
   "source": [
    "train_X[0]"
   ]
  },
  {
   "cell_type": "code",
   "execution_count": 162,
   "id": "af95f531",
   "metadata": {},
   "outputs": [],
   "source": [
    "from sklearn.linear_model import LinearRegression"
   ]
  },
  {
   "cell_type": "code",
   "execution_count": 163,
   "id": "315114e0",
   "metadata": {},
   "outputs": [],
   "source": [
    "mdl = LinearRegression()"
   ]
  },
  {
   "cell_type": "code",
   "execution_count": 164,
   "id": "f9d684a1",
   "metadata": {},
   "outputs": [],
   "source": [
    "y_train = train_csv['Mythological label'].values\n",
    "y_test = test_csv['Mythological label'].values"
   ]
  },
  {
   "cell_type": "code",
   "execution_count": 165,
   "id": "6c63ca7f",
   "metadata": {},
   "outputs": [
    {
     "data": {
      "text/plain": [
       "LinearRegression()"
      ]
     },
     "execution_count": 165,
     "metadata": {},
     "output_type": "execute_result"
    }
   ],
   "source": [
    "mdl.fit(X_train_tf, train_y)"
   ]
  },
  {
   "cell_type": "code",
   "execution_count": 166,
   "id": "6f3eb8c1",
   "metadata": {},
   "outputs": [],
   "source": [
    "from sklearn.metrics import accuracy_score, r2_score, mean_squared_error"
   ]
  },
  {
   "cell_type": "code",
   "execution_count": 167,
   "id": "b0171c67",
   "metadata": {},
   "outputs": [],
   "source": [
    "predictions = mdl.predict(X_test_tf)"
   ]
  },
  {
   "cell_type": "code",
   "execution_count": 168,
   "id": "a7ff8c8d",
   "metadata": {},
   "outputs": [
    {
     "data": {
      "text/plain": [
       "array([ 0.27,  0.41,  0.17,  1.34,  0.91,  0.44,  0.93, -0.09,  0.1 ,\n",
       "        0.  ,  0.05,  0.33, -0.26, -0.09,  0.03, -0.04,  0.98,  0.41,\n",
       "        0.67, -0.09,  0.22,  0.07,  0.16, -0.07,  1.37, -0.08,  1.99,\n",
       "        1.78,  0.41,  0.79, -0.26,  0.64])"
      ]
     },
     "execution_count": 168,
     "metadata": {},
     "output_type": "execute_result"
    }
   ],
   "source": [
    "predictions.round(2)"
   ]
  },
  {
   "cell_type": "code",
   "execution_count": 169,
   "id": "6cbe5312",
   "metadata": {},
   "outputs": [
    {
     "data": {
      "text/plain": [
       "array([1, 1, 0, 0, 1, 1, 1, 1, 0, 0, 0, 0, 0, 0, 0, 0, 0, 0, 0, 0, 1, 1,\n",
       "       0, 0, 0, 1, 1, 1, 0, 1, 0, 0])"
      ]
     },
     "execution_count": 169,
     "metadata": {},
     "output_type": "execute_result"
    }
   ],
   "source": [
    "y_test"
   ]
  },
  {
   "cell_type": "code",
   "execution_count": 182,
   "id": "f6c04736",
   "metadata": {},
   "outputs": [
    {
     "data": {
      "text/plain": [
       "-0.22931034283794727"
      ]
     },
     "execution_count": 182,
     "metadata": {},
     "output_type": "execute_result"
    }
   ],
   "source": [
    "r2_score(predictions, y_test)"
   ]
  },
  {
   "cell_type": "code",
   "execution_count": 171,
   "id": "1ba8b454",
   "metadata": {},
   "outputs": [
    {
     "data": {
      "text/plain": [
       "0.400721173936641"
      ]
     },
     "execution_count": 171,
     "metadata": {},
     "output_type": "execute_result"
    }
   ],
   "source": [
    "mean_squared_error(y_test, predictions)"
   ]
  },
  {
   "cell_type": "code",
   "execution_count": 172,
   "id": "c8fe8e8a",
   "metadata": {},
   "outputs": [],
   "source": [
    "# Predictions_train = np.clip(mdl.predict(X_test_tf).round(),0,1)\n",
    "Predictions_clipped = np.clip(mdl.predict(X_test_tf).round(),0,1)"
   ]
  },
  {
   "cell_type": "code",
   "execution_count": 173,
   "id": "2a2e8023",
   "metadata": {},
   "outputs": [
    {
     "data": {
      "text/plain": [
       "0.625"
      ]
     },
     "execution_count": 173,
     "metadata": {},
     "output_type": "execute_result"
    }
   ],
   "source": [
    "accuracy = accuracy_score(Predictions_clipped, test_y)\n",
    "accuracy"
   ]
  },
  {
   "cell_type": "code",
   "execution_count": 179,
   "id": "83698c6a",
   "metadata": {},
   "outputs": [
    {
     "data": {
      "image/png": "[encoded data removed]",
      "text/plain": [
       "<Figure size 432x288 with 1 Axes>"
      ]
     },
     "metadata": {
      "needs_background": "light"
     },
     "output_type": "display_data"
    }
   ],
   "source": [
    "import matplotlib.pyplot as plt\n",
    "import numpy as np\n",
    "\n",
    "\n",
    "def plotGraph(y_test,y_pred,regressorName):\n",
    "    if max(y_test) >= max(y_pred):\n",
    "        my_range = int(max(y_test))\n",
    "    else:\n",
    "        my_range = int(max(y_pred))\n",
    "    plt.scatter(range(len(y_test)), y_test, color='blue')\n",
    "    plt.scatter(range(len(y_pred)), y_pred, color='red')\n",
    "    plt.title(regressorName)\n",
    "    plt.show()\n",
    "    return\n",
    "\n",
    "plotGraph(y_test, predictions, \"test\")"
   ]
  },
  {
   "cell_type": "code",
   "execution_count": 177,
   "id": "b1381098",
   "metadata": {},
   "outputs": [
    {
     "data": {
      "text/plain": [
       "array([0., 0., 0., 1., 1., 0., 1., 0., 0., 0., 0., 0., 0., 0., 0., 0., 1.,\n",
       "       0., 1., 0., 0., 0., 0., 0., 1., 0., 1., 1., 0., 1., 0., 1.])"
      ]
     },
     "execution_count": 177,
     "metadata": {},
     "output_type": "execute_result"
    }
   ],
   "source": [
    "Predictions_clipped"
   ]
  },
  {
   "cell_type": "code",
   "execution_count": 178,
   "id": "2bb406ae",
   "metadata": {},
   "outputs": [
    {
     "data": {
      "text/plain": [
       "array([1, 1, 0, 0, 1, 1, 1, 1, 0, 0, 0, 0, 0, 0, 0, 0, 0, 0, 0, 0, 1, 1,\n",
       "       0, 0, 0, 1, 1, 1, 0, 1, 0, 0])"
      ]
     },
     "execution_count": 178,
     "metadata": {},
     "output_type": "execute_result"
    }
   ],
   "source": [
    "y_test"
   ]
  },
  {
   "cell_type": "code",
   "execution_count": null,
   "id": "168d6798",
   "metadata": {},
   "outputs": [],
   "source": []
  }
 ],
 "metadata": {
  "kernelspec": {
   "display_name": "Python 3 (ipykernel)",
   "language": "python",
   "name": "python3"
  },
  "language_info": {
   "codemirror_mode": {
    "name": "ipython",
    "version": 3
   },
   "file_extension": ".py",
   "mimetype": "text/x-python",
   "name": "python",
   "nbconvert_exporter": "python",
   "pygments_lexer": "ipython3",
   "version": "3.9.7"
  }
 },
 "nbformat": 4,
 "nbformat_minor": 5
}
