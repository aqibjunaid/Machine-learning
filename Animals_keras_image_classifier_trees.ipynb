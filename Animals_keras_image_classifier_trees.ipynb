{
  "nbformat": 4,
  "nbformat_minor": 0,
  "metadata": {
    "colab": {
      "name": "Animals_keras_image_classifier_trees.ipynb",
      "provenance": [],
      "collapsed_sections": [],
      "authorship_tag": "ABX9TyPYIxup5r6X+D7HgIYBxhXz"
    },
    "kernelspec": {
      "name": "python3",
      "display_name": "Python 3"
    },
    "language_info": {
      "name": "python"
    },
    "accelerator": "GPU"
  },
  "cells": [
    {
      "cell_type": "code",
      "source": [
        "import os\n",
        "import shutil"
      ],
      "metadata": {
        "id": "kXzqO_YnbIbX"
      },
      "execution_count": 2,
      "outputs": []
    },
    {
      "cell_type": "code",
      "source": [
        "class_0 = [i for i in os.listdir() if i[-5:] == '0.jpg']\n",
        "class_1 = [i for i in os.listdir() if i[-5:] == '1.jpg']"
      ],
      "metadata": {
        "id": "6X7kR0pUbLxq"
      },
      "execution_count": 3,
      "outputs": []
    },
    {
      "cell_type": "code",
      "source": [
        "all_classes = [class_0, class_1]"
      ],
      "metadata": {
        "id": "8be2ui8yd5Hx"
      },
      "execution_count": 4,
      "outputs": []
    },
    {
      "cell_type": "code",
      "source": [
        "import numpy as np\n",
        "import matplotlib.pyplot as plt\n",
        "import os\n",
        "import cv2\n",
        "from tqdm import tqdm"
      ],
      "metadata": {
        "id": "gBF_RlDAcl9K"
      },
      "execution_count": 5,
      "outputs": []
    },
    {
      "cell_type": "code",
      "execution_count": 6,
      "metadata": {
        "id": "qWUPLiL0W4CW"
      },
      "outputs": [],
      "source": [
        "IMG_SIZE = 100\n",
        "\n",
        "training_data = []\n",
        "\n",
        "def create_training_data():\n",
        "    for category in [0,1]:  # do for label 0 and 1\n",
        "\n",
        "        for img in all_classes[category]:  # iterate over each image per assigned label\n",
        "            try:\n",
        "                img_array = cv2.imread(img)  # convert to array\n",
        "                new_array = cv2.resize(img_array, (IMG_SIZE, IMG_SIZE))  # resize to normalize data size\n",
        "                training_data.append([new_array, category])  # add this to our training_data\n",
        "            except Exception as e:  # in the interest in keeping the output clean...\n",
        "                pass\n",
        "            \n",
        "create_training_data()"
      ]
    },
    {
      "cell_type": "code",
      "source": [
        "import random\n",
        "random.shuffle(training_data)"
      ],
      "metadata": {
        "id": "zBIu-nekejn0"
      },
      "execution_count": 7,
      "outputs": []
    },
    {
      "cell_type": "code",
      "source": [
        "len(training_data)"
      ],
      "metadata": {
        "colab": {
          "base_uri": "https://localhost:8080/"
        },
        "id": "bgnpWVeDen2j",
        "outputId": "be8e481e-3951-45a9-9f79-61aaf1809321"
      },
      "execution_count": 8,
      "outputs": [
        {
          "output_type": "execute_result",
          "data": {
            "text/plain": [
              "106"
            ]
          },
          "metadata": {},
          "execution_count": 8
        }
      ]
    },
    {
      "cell_type": "code",
      "source": [
        "X = []\n",
        "y = []\n",
        "\n",
        "for features,label in training_data:\n",
        "    X.append(features)\n",
        "    y.append(label)\n",
        "\n",
        "X = np.array(X).reshape(-1, IMG_SIZE, IMG_SIZE, 3)\n",
        "y = np.array(y)"
      ],
      "metadata": {
        "id": "CPJvD0lQfrlv"
      },
      "execution_count": 9,
      "outputs": []
    },
    {
      "cell_type": "code",
      "source": [
        "import pickle\n",
        "\n",
        "pickle_out = open(\"X.pickle\",\"wb\")\n",
        "pickle.dump(X, pickle_out)\n",
        "pickle_out.close()\n",
        "\n",
        "pickle_out = open(\"y.pickle\",\"wb\")\n",
        "pickle.dump(y, pickle_out)\n",
        "pickle_out.close()"
      ],
      "metadata": {
        "id": "kYskJ7vFgNNy"
      },
      "execution_count": 10,
      "outputs": []
    },
    {
      "cell_type": "code",
      "source": [
        "from keras.models import Sequential\n",
        "from keras.layers import Dense, Dropout, Activation, Flatten\n",
        "from keras.layers import Conv2D, MaxPooling2D\n",
        "import keras\n",
        "\n",
        "import pickle\n",
        "\n",
        "pickle_in = open(\"X.pickle\",\"rb\")\n",
        "X = pickle.load(pickle_in)\n",
        "\n",
        "pickle_in = open(\"y.pickle\",\"rb\")\n",
        "y = pickle.load(pickle_in)\n",
        "# y = np.array(y)\n",
        "\n",
        "X = X/255.0\n",
        "\n",
        "model = Sequential()\n",
        "\n",
        "model.add(Conv2D(256, (3, 3), input_shape=X.shape[1:]))\n",
        "model.add(Activation('relu'))\n",
        "model.add(MaxPooling2D(pool_size=(2, 2)))\n",
        "\n",
        "model.add(Conv2D(256, (3, 3)))\n",
        "model.add(Activation('relu'))\n",
        "model.add(MaxPooling2D(pool_size=(2, 2)))\n",
        "\n",
        "model.add(Flatten())  # this converts our 3D feature maps to 1D feature vectors\n",
        "\n",
        "model.add(Dense(64))\n",
        "\n",
        "model.add(Dense(1))\n",
        "model.add(Activation('sigmoid'))\n",
        "\n",
        "model.compile(loss='binary_crossentropy',\n",
        "              optimizer='adam',\n",
        "              metrics=['accuracy'])\n",
        "callback = keras.callbacks.EarlyStopping(monitor='val_accuracy', patience=10)\n",
        "history = model.fit(X, y, batch_size=4, epochs=100, validation_split=0.3, callbacks=[callback])\n",
        "\n"
      ],
      "metadata": {
        "colab": {
          "base_uri": "https://localhost:8080/"
        },
        "id": "4p8WoE1mgcME",
        "outputId": "3e61352d-ec1e-473f-be05-8d6bb9620386"
      },
      "execution_count": 11,
      "outputs": [
        {
          "output_type": "stream",
          "name": "stdout",
          "text": [
            "Epoch 1/100\n",
            "19/19 [==============================] - 12s 87ms/step - loss: 3.2615 - accuracy: 0.5676 - val_loss: 0.6924 - val_accuracy: 0.5625\n",
            "Epoch 2/100\n",
            "19/19 [==============================] - 1s 53ms/step - loss: 0.7234 - accuracy: 0.6892 - val_loss: 0.6894 - val_accuracy: 0.5625\n",
            "Epoch 3/100\n",
            "19/19 [==============================] - 1s 52ms/step - loss: 0.6767 - accuracy: 0.6892 - val_loss: 0.6889 - val_accuracy: 0.5625\n",
            "Epoch 4/100\n",
            "19/19 [==============================] - 1s 51ms/step - loss: 0.6697 - accuracy: 0.6892 - val_loss: 0.6855 - val_accuracy: 0.5625\n",
            "Epoch 5/100\n",
            "19/19 [==============================] - 1s 52ms/step - loss: 0.7561 - accuracy: 0.6892 - val_loss: 2.1973 - val_accuracy: 0.5625\n",
            "Epoch 6/100\n",
            "19/19 [==============================] - 1s 52ms/step - loss: 0.7004 - accuracy: 0.6892 - val_loss: 0.6910 - val_accuracy: 0.5625\n",
            "Epoch 7/100\n",
            "19/19 [==============================] - 1s 51ms/step - loss: 0.5963 - accuracy: 0.7162 - val_loss: 1.5452 - val_accuracy: 0.5312\n",
            "Epoch 8/100\n",
            "19/19 [==============================] - 1s 51ms/step - loss: 0.6668 - accuracy: 0.7162 - val_loss: 0.6956 - val_accuracy: 0.5312\n",
            "Epoch 9/100\n",
            "19/19 [==============================] - 1s 50ms/step - loss: 0.6199 - accuracy: 0.7027 - val_loss: 0.7390 - val_accuracy: 0.4688\n",
            "Epoch 10/100\n",
            "19/19 [==============================] - 1s 51ms/step - loss: 0.6000 - accuracy: 0.7568 - val_loss: 0.7072 - val_accuracy: 0.5000\n",
            "Epoch 11/100\n",
            "19/19 [==============================] - 1s 51ms/step - loss: 0.5289 - accuracy: 0.7568 - val_loss: 0.8168 - val_accuracy: 0.5938\n",
            "Epoch 12/100\n",
            "19/19 [==============================] - 1s 52ms/step - loss: 0.3440 - accuracy: 0.8378 - val_loss: 0.9287 - val_accuracy: 0.5312\n",
            "Epoch 13/100\n",
            "19/19 [==============================] - 1s 52ms/step - loss: 0.2123 - accuracy: 0.9054 - val_loss: 1.2670 - val_accuracy: 0.4688\n",
            "Epoch 14/100\n",
            "19/19 [==============================] - 1s 52ms/step - loss: 0.1476 - accuracy: 0.9324 - val_loss: 2.0028 - val_accuracy: 0.4688\n",
            "Epoch 15/100\n",
            "19/19 [==============================] - 1s 51ms/step - loss: 0.2341 - accuracy: 0.9189 - val_loss: 1.3871 - val_accuracy: 0.5312\n",
            "Epoch 16/100\n",
            "19/19 [==============================] - 1s 52ms/step - loss: 0.1789 - accuracy: 0.9054 - val_loss: 1.9037 - val_accuracy: 0.5312\n",
            "Epoch 17/100\n",
            "19/19 [==============================] - 1s 51ms/step - loss: 0.1461 - accuracy: 0.9459 - val_loss: 2.7461 - val_accuracy: 0.5000\n",
            "Epoch 18/100\n",
            "19/19 [==============================] - 1s 51ms/step - loss: 0.1305 - accuracy: 0.9595 - val_loss: 2.3575 - val_accuracy: 0.5312\n",
            "Epoch 19/100\n",
            "19/19 [==============================] - 1s 51ms/step - loss: 0.0748 - accuracy: 0.9595 - val_loss: 3.1638 - val_accuracy: 0.4688\n",
            "Epoch 20/100\n",
            "19/19 [==============================] - 1s 52ms/step - loss: 0.0350 - accuracy: 1.0000 - val_loss: 2.5126 - val_accuracy: 0.4688\n",
            "Epoch 21/100\n",
            "19/19 [==============================] - 1s 51ms/step - loss: 0.0375 - accuracy: 1.0000 - val_loss: 3.8115 - val_accuracy: 0.5312\n"
          ]
        }
      ]
    },
    {
      "cell_type": "code",
      "source": [
        "from sklearn.metrics import accuracy_score\n",
        "accuracy_score(model.predict(X).round(), y)"
      ],
      "metadata": {
        "colab": {
          "base_uri": "https://localhost:8080/"
        },
        "id": "SGzFHCfrrnHI",
        "outputId": "ec4ed2f0-6bdd-4134-e631-c54f98070abc"
      },
      "execution_count": 12,
      "outputs": [
        {
          "output_type": "execute_result",
          "data": {
            "text/plain": [
              "0.8584905660377359"
            ]
          },
          "metadata": {},
          "execution_count": 12
        }
      ]
    },
    {
      "cell_type": "code",
      "source": [
        "import pandas as pd\n",
        "df = pd.DataFrame(history.history)"
      ],
      "metadata": {
        "id": "17WmkQMoh10v"
      },
      "execution_count": 13,
      "outputs": []
    },
    {
      "cell_type": "code",
      "source": [
        "df['epoch'] = list(range(1, len(df) +1))"
      ],
      "metadata": {
        "id": "rhGwjq1ksB6p"
      },
      "execution_count": 14,
      "outputs": []
    },
    {
      "cell_type": "code",
      "source": [
        "plt.plot(df.epoch, df.accuracy, label ='accuracy')\n",
        "plt.plot(df.epoch, df.val_accuracy, label ='val_accuracy')\n",
        "plt.plot(df.epoch, df.loss, label = 'loss')\n",
        "plt.legend()\n"
      ],
      "metadata": {
        "colab": {
          "base_uri": "https://localhost:8080/",
          "height": 282
        },
        "id": "2DmrvEZssSwh",
        "outputId": "232b67cc-325d-46ff-a6c8-4ff3ea84c431"
      },
      "execution_count": 16,
      "outputs": [
        {
          "output_type": "execute_result",
          "data": {
            "text/plain": [
              "<matplotlib.legend.Legend at 0x7fe144c48fd0>"
            ]
          },
          "metadata": {},
          "execution_count": 16
        },
        {
          "output_type": "display_data",
          "data": {
            "text/plain": [
              "<Figure size 432x288 with 1 Axes>"
            ],
            "image/png": "[encoded data removed]"
          },
          "metadata": {
            "needs_background": "light"
          }
        }
      ]
    },
    {
      "cell_type": "code",
      "source": [
        "df"
      ],
      "metadata": {
        "id": "_pGzbgPLwH1i",
        "colab": {
          "base_uri": "https://localhost:8080/",
          "height": 558
        },
        "outputId": "841bf6f5-daa7-42ef-b6b0-bacfbfcfe810"
      },
      "execution_count": 17,
      "outputs": [
        {
          "output_type": "execute_result",
          "data": {
            "text/plain": [
              "        loss  accuracy  val_loss  val_accuracy  epoch\n",
              "0   3.261489  0.567568  0.692367       0.56250      1\n",
              "1   0.723438  0.689189  0.689421       0.56250      2\n",
              "2   0.676729  0.689189  0.688893       0.56250      3\n",
              "3   0.669681  0.689189  0.685480       0.56250      4\n",
              "4   0.756121  0.689189  2.197304       0.56250      5\n",
              "5   0.700367  0.689189  0.691040       0.56250      6\n",
              "6   0.596320  0.716216  1.545199       0.53125      7\n",
              "7   0.666830  0.716216  0.695596       0.53125      8\n",
              "8   0.619875  0.702703  0.738962       0.46875      9\n",
              "9   0.600044  0.756757  0.707160       0.50000     10\n",
              "10  0.528881  0.756757  0.816810       0.59375     11\n",
              "11  0.343976  0.837838  0.928736       0.53125     12\n",
              "12  0.212328  0.905405  1.267013       0.46875     13\n",
              "13  0.147578  0.932432  2.002819       0.46875     14\n",
              "14  0.234088  0.918919  1.387134       0.53125     15\n",
              "15  0.178861  0.905405  1.903679       0.53125     16\n",
              "16  0.146132  0.945946  2.746093       0.50000     17\n",
              "17  0.130518  0.959459  2.357457       0.53125     18\n",
              "18  0.074811  0.959459  3.163818       0.46875     19\n",
              "19  0.034973  1.000000  2.512552       0.46875     20\n",
              "20  0.037495  1.000000  3.811485       0.53125     21"
            ],
            "text/html": [
              "\n",
              "  <div id=\"df-7f47dffe-87e6-4d2a-a80b-e2b41680ebc7\">\n",
              "    <div class=\"colab-df-container\">\n",
              "      <div>\n",
              "<style scoped>\n",
              "    .dataframe tbody tr th:only-of-type {\n",
              "        vertical-align: middle;\n",
              "    }\n",
              "\n",
              "    .dataframe tbody tr th {\n",
              "        vertical-align: top;\n",
              "    }\n",
              "\n",
              "    .dataframe thead th {\n",
              "        text-align: right;\n",
              "    }\n",
              "</style>\n",
              "<table border=\"1\" class=\"dataframe\">\n",
              "  <thead>\n",
              "    <tr style=\"text-align: right;\">\n",
              "      <th></th>\n",
              "      <th>loss</th>\n",
              "      <th>accuracy</th>\n",
              "      <th>val_loss</th>\n",
              "      <th>val_accuracy</th>\n",
              "      <th>epoch</th>\n",
              "    </tr>\n",
              "  </thead>\n",
              "  <tbody>\n",
              "    <tr>\n",
              "      <th>0</th>\n",
              "      <td>3.261489</td>\n",
              "      <td>0.567568</td>\n",
              "      <td>0.692367</td>\n",
              "      <td>0.56250</td>\n",
              "      <td>1</td>\n",
              "    </tr>\n",
              "    <tr>\n",
              "      <th>1</th>\n",
              "      <td>0.723438</td>\n",
              "      <td>0.689189</td>\n",
              "      <td>0.689421</td>\n",
              "      <td>0.56250</td>\n",
              "      <td>2</td>\n",
              "    </tr>\n",
              "    <tr>\n",
              "      <th>2</th>\n",
              "      <td>0.676729</td>\n",
              "      <td>0.689189</td>\n",
              "      <td>0.688893</td>\n",
              "      <td>0.56250</td>\n",
              "      <td>3</td>\n",
              "    </tr>\n",
              "    <tr>\n",
              "      <th>3</th>\n",
              "      <td>0.669681</td>\n",
              "      <td>0.689189</td>\n",
              "      <td>0.685480</td>\n",
              "      <td>0.56250</td>\n",
              "      <td>4</td>\n",
              "    </tr>\n",
              "    <tr>\n",
              "      <th>4</th>\n",
              "      <td>0.756121</td>\n",
              "      <td>0.689189</td>\n",
              "      <td>2.197304</td>\n",
              "      <td>0.56250</td>\n",
              "      <td>5</td>\n",
              "    </tr>\n",
              "    <tr>\n",
              "      <th>5</th>\n",
              "      <td>0.700367</td>\n",
              "      <td>0.689189</td>\n",
              "      <td>0.691040</td>\n",
              "      <td>0.56250</td>\n",
              "      <td>6</td>\n",
              "    </tr>\n",
              "    <tr>\n",
              "      <th>6</th>\n",
              "      <td>0.596320</td>\n",
              "      <td>0.716216</td>\n",
              "      <td>1.545199</td>\n",
              "      <td>0.53125</td>\n",
              "      <td>7</td>\n",
              "    </tr>\n",
              "    <tr>\n",
              "      <th>7</th>\n",
              "      <td>0.666830</td>\n",
              "      <td>0.716216</td>\n",
              "      <td>0.695596</td>\n",
              "      <td>0.53125</td>\n",
              "      <td>8</td>\n",
              "    </tr>\n",
              "    <tr>\n",
              "      <th>8</th>\n",
              "      <td>0.619875</td>\n",
              "      <td>0.702703</td>\n",
              "      <td>0.738962</td>\n",
              "      <td>0.46875</td>\n",
              "      <td>9</td>\n",
              "    </tr>\n",
              "    <tr>\n",
              "      <th>9</th>\n",
              "      <td>0.600044</td>\n",
              "      <td>0.756757</td>\n",
              "      <td>0.707160</td>\n",
              "      <td>0.50000</td>\n",
              "      <td>10</td>\n",
              "    </tr>\n",
              "    <tr>\n",
              "      <th>10</th>\n",
              "      <td>0.528881</td>\n",
              "      <td>0.756757</td>\n",
              "      <td>0.816810</td>\n",
              "      <td>0.59375</td>\n",
              "      <td>11</td>\n",
              "    </tr>\n",
              "    <tr>\n",
              "      <th>11</th>\n",
              "      <td>0.343976</td>\n",
              "      <td>0.837838</td>\n",
              "      <td>0.928736</td>\n",
              "      <td>0.53125</td>\n",
              "      <td>12</td>\n",
              "    </tr>\n",
              "    <tr>\n",
              "      <th>12</th>\n",
              "      <td>0.212328</td>\n",
              "      <td>0.905405</td>\n",
              "      <td>1.267013</td>\n",
              "      <td>0.46875</td>\n",
              "      <td>13</td>\n",
              "    </tr>\n",
              "    <tr>\n",
              "      <th>13</th>\n",
              "      <td>0.147578</td>\n",
              "      <td>0.932432</td>\n",
              "      <td>2.002819</td>\n",
              "      <td>0.46875</td>\n",
              "      <td>14</td>\n",
              "    </tr>\n",
              "    <tr>\n",
              "      <th>14</th>\n",
              "      <td>0.234088</td>\n",
              "      <td>0.918919</td>\n",
              "      <td>1.387134</td>\n",
              "      <td>0.53125</td>\n",
              "      <td>15</td>\n",
              "    </tr>\n",
              "    <tr>\n",
              "      <th>15</th>\n",
              "      <td>0.178861</td>\n",
              "      <td>0.905405</td>\n",
              "      <td>1.903679</td>\n",
              "      <td>0.53125</td>\n",
              "      <td>16</td>\n",
              "    </tr>\n",
              "    <tr>\n",
              "      <th>16</th>\n",
              "      <td>0.146132</td>\n",
              "      <td>0.945946</td>\n",
              "      <td>2.746093</td>\n",
              "      <td>0.50000</td>\n",
              "      <td>17</td>\n",
              "    </tr>\n",
              "    <tr>\n",
              "      <th>17</th>\n",
              "      <td>0.130518</td>\n",
              "      <td>0.959459</td>\n",
              "      <td>2.357457</td>\n",
              "      <td>0.53125</td>\n",
              "      <td>18</td>\n",
              "    </tr>\n",
              "    <tr>\n",
              "      <th>18</th>\n",
              "      <td>0.074811</td>\n",
              "      <td>0.959459</td>\n",
              "      <td>3.163818</td>\n",
              "      <td>0.46875</td>\n",
              "      <td>19</td>\n",
              "    </tr>\n",
              "    <tr>\n",
              "      <th>19</th>\n",
              "      <td>0.034973</td>\n",
              "      <td>1.000000</td>\n",
              "      <td>2.512552</td>\n",
              "      <td>0.46875</td>\n",
              "      <td>20</td>\n",
              "    </tr>\n",
              "    <tr>\n",
              "      <th>20</th>\n",
              "      <td>0.037495</td>\n",
              "      <td>1.000000</td>\n",
              "      <td>3.811485</td>\n",
              "      <td>0.53125</td>\n",
              "      <td>21</td>\n",
              "    </tr>\n",
              "  </tbody>\n",
              "</table>\n",
              "</div>\n",
              "      <button class=\"colab-df-convert\" onclick=\"convertToInteractive('df-7f47dffe-87e6-4d2a-a80b-e2b41680ebc7')\"\n",
              "              title=\"Convert this dataframe to an interactive table.\"\n",
              "              style=\"display:none;\">\n",
              "        \n",
              "  <svg xmlns=\"http://www.w3.org/2000/svg\" height=\"24px\"viewBox=\"0 0 24 24\"\n",
              "       width=\"24px\">\n",
              "    <path d=\"M0 0h24v24H0V0z\" fill=\"none\"/>\n",
              "    <path d=\"M18.56 5.44l.94 2.06.94-2.06 2.06-.94-2.06-.94-.94-2.06-.94 2.06-2.06.94zm-11 1L8.5 8.5l.94-2.06 2.06-.94-2.06-.94L8.5 2.5l-.94 2.06-2.06.94zm10 10l.94 2.06.94-2.06 2.06-.94-2.06-.94-.94-2.06-.94 2.06-2.06.94z\"/><path d=\"M17.41 7.96l-1.37-1.37c-.4-.4-.92-.59-1.43-.59-.52 0-1.04.2-1.43.59L10.3 9.45l-7.72 7.72c-.78.78-.78 2.05 0 2.83L4 21.41c.39.39.9.59 1.41.59.51 0 1.02-.2 1.41-.59l7.78-7.78 2.81-2.81c.8-.78.8-2.07 0-2.86zM5.41 20L4 18.59l7.72-7.72 1.47 1.35L5.41 20z\"/>\n",
              "  </svg>\n",
              "      </button>\n",
              "      \n",
              "  <style>\n",
              "    .colab-df-container {\n",
              "      display:flex;\n",
              "      flex-wrap:wrap;\n",
              "      gap: 12px;\n",
              "    }\n",
              "\n",
              "    .colab-df-convert {\n",
              "      background-color: #E8F0FE;\n",
              "      border: none;\n",
              "      border-radius: 50%;\n",
              "      cursor: pointer;\n",
              "      display: none;\n",
              "      fill: #1967D2;\n",
              "      height: 32px;\n",
              "      padding: 0 0 0 0;\n",
              "      width: 32px;\n",
              "    }\n",
              "\n",
              "    .colab-df-convert:hover {\n",
              "      background-color: #E2EBFA;\n",
              "      box-shadow: 0px 1px 2px rgba(60, 64, 67, 0.3), 0px 1px 3px 1px rgba(60, 64, 67, 0.15);\n",
              "      fill: #174EA6;\n",
              "    }\n",
              "\n",
              "    [theme=dark] .colab-df-convert {\n",
              "      background-color: #3B4455;\n",
              "      fill: #D2E3FC;\n",
              "    }\n",
              "\n",
              "    [theme=dark] .colab-df-convert:hover {\n",
              "      background-color: #434B5C;\n",
              "      box-shadow: 0px 1px 3px 1px rgba(0, 0, 0, 0.15);\n",
              "      filter: drop-shadow(0px 1px 2px rgba(0, 0, 0, 0.3));\n",
              "      fill: #FFFFFF;\n",
              "    }\n",
              "  </style>\n",
              "\n",
              "      <script>\n",
              "        const buttonEl =\n",
              "          document.querySelector('#df-7f47dffe-87e6-4d2a-a80b-e2b41680ebc7 button.colab-df-convert');\n",
              "        buttonEl.style.display =\n",
              "          google.colab.kernel.accessAllowed ? 'block' : 'none';\n",
              "\n",
              "        async function convertToInteractive(key) {\n",
              "          const element = document.querySelector('#df-7f47dffe-87e6-4d2a-a80b-e2b41680ebc7');\n",
              "          const dataTable =\n",
              "            await google.colab.kernel.invokeFunction('convertToInteractive',\n",
              "                                                     [key], {});\n",
              "          if (!dataTable) return;\n",
              "\n",
              "          const docLinkHtml = 'Like what you see? Visit the ' +\n",
              "            '<a target=\"_blank\" href=https://colab.research.google.com/notebooks/data_table.ipynb>data table notebook</a>'\n",
              "            + ' to learn more about interactive tables.';\n",
              "          element.innerHTML = '';\n",
              "          dataTable['output_type'] = 'display_data';\n",
              "          await google.colab.output.renderOutput(dataTable, element);\n",
              "          const docLink = document.createElement('div');\n",
              "          docLink.innerHTML = docLinkHtml;\n",
              "          element.appendChild(docLink);\n",
              "        }\n",
              "      </script>\n",
              "    </div>\n",
              "  </div>\n",
              "  "
            ]
          },
          "metadata": {},
          "execution_count": 17
        }
      ]
    }
  ]
}