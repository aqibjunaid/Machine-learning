{
  "nbformat": 4,
  "nbformat_minor": 0,
  "metadata": {
    "colab": {
      "name": "Mythological_keras_image_classifier.ipynb",
      "provenance": [],
      "collapsed_sections": [],
      "authorship_tag": "ABX9TyONR73pF8QmcuHOnQbgDVS6"
    },
    "kernelspec": {
      "name": "python3",
      "display_name": "Python 3"
    },
    "language_info": {
      "name": "python"
    },
    "accelerator": "GPU"
  },
  "cells": [
    {
      "cell_type": "code",
      "source": [
        "import os \n",
        "import shutil"
      ],
      "metadata": {
        "id": "kXzqO_YnbIbX"
      },
      "execution_count": 1,
      "outputs": []
    },
    {
      "cell_type": "code",
      "source": [
        "class_0 = [i for i in os.listdir() if i[-5:] == '0.jpg']  \n",
        "class_1 = [i for i in os.listdir() if i[-5:] == '1.jpg']"
      ],
      "metadata": {
        "id": "6X7kR0pUbLxq"
      },
      "execution_count": 2,
      "outputs": []
    },
    {
      "cell_type": "code",
      "source": [
        "all_classes = [class_0, class_1]"
      ],
      "metadata": {
        "id": "8be2ui8yd5Hx"
      },
      "execution_count": 3,
      "outputs": []
    },
    {
      "cell_type": "code",
      "source": [
        "import numpy as np\n",
        "import matplotlib.pyplot as plt\n",
        "import os\n",
        "import cv2\n",
        "from tqdm import tqdm"
      ],
      "metadata": {
        "id": "gBF_RlDAcl9K"
      },
      "execution_count": 4,
      "outputs": []
    },
    {
      "cell_type": "code",
      "execution_count": 5,
      "metadata": {
        "id": "qWUPLiL0W4CW"
      },
      "outputs": [],
      "source": [
        "IMG_SIZE = 100\n",
        "\n",
        "training_data = []\n",
        "\n",
        "def create_training_data():\n",
        "    for category in [0,1]:  # do labels 1 and 0\n",
        "\n",
        "        for img in all_classes[category]:  # iterate over each image per assigned label\n",
        "            try:\n",
        "                img_array = cv2.imread(img)  # convert to array\n",
        "                new_array = cv2.resize(img_array, (IMG_SIZE, IMG_SIZE))  # resize to normalize data size\n",
        "                training_data.append([new_array, category])  # add this to our training_data\n",
        "            except Exception as e:  # in the interest in keeping the output clean...\n",
        "                pass\n",
        "            \n",
        "create_training_data()"
      ]
    },
    {
      "cell_type": "code",
      "source": [
        "import random\n",
        "random.shuffle(training_data)"
      ],
      "metadata": {
        "id": "zBIu-nekejn0"
      },
      "execution_count": 6,
      "outputs": []
    },
    {
      "cell_type": "code",
      "source": [
        "len(training_data)"
      ],
      "metadata": {
        "colab": {
          "base_uri": "https://localhost:8080/"
        },
        "id": "bgnpWVeDen2j",
        "outputId": "8ce8c9e8-b3ec-4638-8627-79be9ace8c9e"
      },
      "execution_count": 7,
      "outputs": [
        {
          "output_type": "execute_result",
          "data": {
            "text/plain": [
              "106"
            ]
          },
          "metadata": {},
          "execution_count": 7
        }
      ]
    },
    {
      "cell_type": "code",
      "source": [
        "X = []\n",
        "y = []\n",
        "\n",
        "for features,label in training_data:\n",
        "    X.append(features)\n",
        "    y.append(label)\n",
        "\n",
        "X = np.array(X).reshape(-1, IMG_SIZE, IMG_SIZE, 3)\n",
        "y = np.array(y)"
      ],
      "metadata": {
        "id": "CPJvD0lQfrlv"
      },
      "execution_count": 8,
      "outputs": []
    },
    {
      "cell_type": "code",
      "source": [
        "import pickle\n",
        "\n",
        "pickle_out = open(\"X.pickle\",\"wb\")\n",
        "pickle.dump(X, pickle_out)\n",
        "pickle_out.close()\n",
        "\n",
        "pickle_out = open(\"y.pickle\",\"wb\")\n",
        "pickle.dump(y, pickle_out)\n",
        "pickle_out.close()"
      ],
      "metadata": {
        "id": "kYskJ7vFgNNy"
      },
      "execution_count": 9,
      "outputs": []
    },
    {
      "cell_type": "code",
      "source": [
        "from keras.models import Sequential\n",
        "from keras.layers import Dense, Dropout, Activation, Flatten\n",
        "from keras.layers import Conv2D, MaxPooling2D\n",
        "import keras\n",
        "\n",
        "import pickle\n",
        "\n",
        "pickle_in = open(\"X.pickle\",\"rb\")\n",
        "X = pickle.load(pickle_in)\n",
        "\n",
        "pickle_in = open(\"y.pickle\",\"rb\")\n",
        "y = pickle.load(pickle_in)\n",
        "# y = np.array(y)\n",
        "\n",
        "X = X/255.0\n",
        "\n",
        "model = Sequential()\n",
        "\n",
        "model.add(Conv2D(256, (3, 3), input_shape=X.shape[1:]))\n",
        "model.add(Activation('relu'))\n",
        "model.add(MaxPooling2D(pool_size=(2, 2)))\n",
        "\n",
        "model.add(Conv2D(256, (3, 3)))\n",
        "model.add(Activation('relu'))\n",
        "model.add(MaxPooling2D(pool_size=(2, 2)))\n",
        "\n",
        "model.add(Flatten())  # this converts our 3D feature maps to 1D feature vectors\n",
        "\n",
        "model.add(Dense(64))\n",
        "\n",
        "model.add(Dense(1))\n",
        "model.add(Activation('sigmoid'))\n",
        "\n",
        "model.compile(loss='binary_crossentropy',\n",
        "              optimizer='adam',\n",
        "              metrics=['accuracy'])\n",
        "callback = keras.callbacks.EarlyStopping(monitor='val_accuracy', patience=10)\n",
        "history = model.fit(X, y, batch_size=4, epochs=30, validation_split=0.4, callbacks=[callback])\n",
        "\n"
      ],
      "metadata": {
        "colab": {
          "base_uri": "https://localhost:8080/"
        },
        "id": "4p8WoE1mgcME",
        "outputId": "7cc8da0b-5b07-49dc-e197-2f6b858428ea"
      },
      "execution_count": 24,
      "outputs": [
        {
          "output_type": "stream",
          "name": "stdout",
          "text": [
            "Epoch 1/30\n",
            "16/16 [==============================] - 2s 84ms/step - loss: 5.0138 - accuracy: 0.3651 - val_loss: 0.6915 - val_accuracy: 0.6512\n",
            "Epoch 2/30\n",
            "16/16 [==============================] - 1s 41ms/step - loss: 0.6912 - accuracy: 0.6667 - val_loss: 0.6617 - val_accuracy: 0.6512\n",
            "Epoch 3/30\n",
            "16/16 [==============================] - 1s 41ms/step - loss: 0.6800 - accuracy: 0.5714 - val_loss: 0.6951 - val_accuracy: 0.4651\n",
            "Epoch 4/30\n",
            "16/16 [==============================] - 1s 42ms/step - loss: 0.6824 - accuracy: 0.7143 - val_loss: 0.7117 - val_accuracy: 0.3953\n",
            "Epoch 5/30\n",
            "16/16 [==============================] - 1s 41ms/step - loss: 0.6723 - accuracy: 0.7302 - val_loss: 0.7383 - val_accuracy: 0.4186\n",
            "Epoch 6/30\n",
            "16/16 [==============================] - 1s 41ms/step - loss: 0.5626 - accuracy: 0.7143 - val_loss: 0.6918 - val_accuracy: 0.4419\n",
            "Epoch 7/30\n",
            "16/16 [==============================] - 1s 41ms/step - loss: 0.3954 - accuracy: 0.9048 - val_loss: 0.7593 - val_accuracy: 0.5581\n",
            "Epoch 8/30\n",
            "16/16 [==============================] - 1s 42ms/step - loss: 0.2331 - accuracy: 0.9365 - val_loss: 1.0689 - val_accuracy: 0.5814\n",
            "Epoch 9/30\n",
            "16/16 [==============================] - 1s 50ms/step - loss: 0.2129 - accuracy: 0.9524 - val_loss: 1.0084 - val_accuracy: 0.5116\n",
            "Epoch 10/30\n",
            "16/16 [==============================] - 1s 50ms/step - loss: 0.0803 - accuracy: 1.0000 - val_loss: 1.4560 - val_accuracy: 0.5581\n",
            "Epoch 11/30\n",
            "16/16 [==============================] - 1s 44ms/step - loss: 0.0429 - accuracy: 1.0000 - val_loss: 1.4160 - val_accuracy: 0.5581\n"
          ]
        }
      ]
    },
    {
      "cell_type": "code",
      "source": [
        "from sklearn.metrics import accuracy_score\n",
        "accuracy_score(model.predict(X).round(), y)"
      ],
      "metadata": {
        "colab": {
          "base_uri": "https://localhost:8080/"
        },
        "id": "SGzFHCfrrnHI",
        "outputId": "db2c818f-684c-4549-f8f3-e4c92bea044a"
      },
      "execution_count": 25,
      "outputs": [
        {
          "output_type": "execute_result",
          "data": {
            "text/plain": [
              "0.8207547169811321"
            ]
          },
          "metadata": {},
          "execution_count": 25
        }
      ]
    },
    {
      "cell_type": "code",
      "source": [
        "import pandas as pd\n",
        "df = pd.DataFrame(history.history)"
      ],
      "metadata": {
        "id": "17WmkQMoh10v"
      },
      "execution_count": 26,
      "outputs": []
    },
    {
      "cell_type": "code",
      "source": [
        "import pandas as pd\n",
        "df = pd.DataFrame(history.history)"
      ],
      "metadata": {
        "id": "kTDtwm2xTlmC"
      },
      "execution_count": 27,
      "outputs": []
    },
    {
      "cell_type": "markdown",
      "source": [
        ""
      ],
      "metadata": {
        "id": "7EgT5mh5Tk-Y"
      }
    },
    {
      "cell_type": "code",
      "source": [
        "df['epoch'] = list(range(1, len(df) +1))"
      ],
      "metadata": {
        "id": "rhGwjq1ksB6p"
      },
      "execution_count": 28,
      "outputs": []
    },
    {
      "cell_type": "code",
      "source": [
        "plt.plot(df.epoch, df.accuracy, label ='accuracy')\n",
        "#plt.plot(df.epoch, df.val_accuracy, label = 'val_accuracy')\n",
        "plt.plot(df.epoch, df.loss, label = 'loss')\n",
        "plt.legend()\n"
      ],
      "metadata": {
        "colab": {
          "base_uri": "https://localhost:8080/",
          "height": 282
        },
        "id": "2DmrvEZssSwh",
        "outputId": "419849fc-75af-4a77-b7b0-a24a23ac5b04"
      },
      "execution_count": 32,
      "outputs": [
        {
          "output_type": "execute_result",
          "data": {
            "text/plain": [
              "<matplotlib.legend.Legend at 0x7f526bee2650>"
            ]
          },
          "metadata": {},
          "execution_count": 32
        },
        {
          "output_type": "display_data",
          "data": {
            "text/plain": [
              "<Figure size 432x288 with 1 Axes>"
            ],
            "image/png": "[encoded data removed]"
          },
          "metadata": {
            "needs_background": "light"
          }
        }
      ]
    },
    {
      "cell_type": "code",
      "source": [
        "df\n"
      ],
      "metadata": {
        "colab": {
          "base_uri": "https://localhost:8080/",
          "height": 343
        },
        "id": "_pGzbgPLwH1i",
        "outputId": "82416722-a278-46d0-9adc-1de659be166b"
      },
      "execution_count": 30,
      "outputs": [
        {
          "output_type": "execute_result",
          "data": {
            "text/plain": [
              "        loss  accuracy  val_loss  val_accuracy  epoch\n",
              "0   5.013793  0.365079  0.691537      0.651163      1\n",
              "1   0.691159  0.666667  0.661746      0.651163      2\n",
              "2   0.680042  0.571429  0.695105      0.465116      3\n",
              "3   0.682379  0.714286  0.711653      0.395349      4\n",
              "4   0.672281  0.730159  0.738307      0.418605      5\n",
              "5   0.562649  0.714286  0.691795      0.441860      6\n",
              "6   0.395411  0.904762  0.759297      0.558140      7\n",
              "7   0.233074  0.936508  1.068889      0.581395      8\n",
              "8   0.212925  0.952381  1.008366      0.511628      9\n",
              "9   0.080276  1.000000  1.455997      0.558140     10\n",
              "10  0.042909  1.000000  1.416002      0.558140     11"
            ],
            "text/html": [
              "\n",
              "  <div id=\"df-4715338c-c77f-4135-a2e2-7a743e8f21ae\">\n",
              "    <div class=\"colab-df-container\">\n",
              "      <div>\n",
              "<style scoped>\n",
              "    .dataframe tbody tr th:only-of-type {\n",
              "        vertical-align: middle;\n",
              "    }\n",
              "\n",
              "    .dataframe tbody tr th {\n",
              "        vertical-align: top;\n",
              "    }\n",
              "\n",
              "    .dataframe thead th {\n",
              "        text-align: right;\n",
              "    }\n",
              "</style>\n",
              "<table border=\"1\" class=\"dataframe\">\n",
              "  <thead>\n",
              "    <tr style=\"text-align: right;\">\n",
              "      <th></th>\n",
              "      <th>loss</th>\n",
              "      <th>accuracy</th>\n",
              "      <th>val_loss</th>\n",
              "      <th>val_accuracy</th>\n",
              "      <th>epoch</th>\n",
              "    </tr>\n",
              "  </thead>\n",
              "  <tbody>\n",
              "    <tr>\n",
              "      <th>0</th>\n",
              "      <td>5.013793</td>\n",
              "      <td>0.365079</td>\n",
              "      <td>0.691537</td>\n",
              "      <td>0.651163</td>\n",
              "      <td>1</td>\n",
              "    </tr>\n",
              "    <tr>\n",
              "      <th>1</th>\n",
              "      <td>0.691159</td>\n",
              "      <td>0.666667</td>\n",
              "      <td>0.661746</td>\n",
              "      <td>0.651163</td>\n",
              "      <td>2</td>\n",
              "    </tr>\n",
              "    <tr>\n",
              "      <th>2</th>\n",
              "      <td>0.680042</td>\n",
              "      <td>0.571429</td>\n",
              "      <td>0.695105</td>\n",
              "      <td>0.465116</td>\n",
              "      <td>3</td>\n",
              "    </tr>\n",
              "    <tr>\n",
              "      <th>3</th>\n",
              "      <td>0.682379</td>\n",
              "      <td>0.714286</td>\n",
              "      <td>0.711653</td>\n",
              "      <td>0.395349</td>\n",
              "      <td>4</td>\n",
              "    </tr>\n",
              "    <tr>\n",
              "      <th>4</th>\n",
              "      <td>0.672281</td>\n",
              "      <td>0.730159</td>\n",
              "      <td>0.738307</td>\n",
              "      <td>0.418605</td>\n",
              "      <td>5</td>\n",
              "    </tr>\n",
              "    <tr>\n",
              "      <th>5</th>\n",
              "      <td>0.562649</td>\n",
              "      <td>0.714286</td>\n",
              "      <td>0.691795</td>\n",
              "      <td>0.441860</td>\n",
              "      <td>6</td>\n",
              "    </tr>\n",
              "    <tr>\n",
              "      <th>6</th>\n",
              "      <td>0.395411</td>\n",
              "      <td>0.904762</td>\n",
              "      <td>0.759297</td>\n",
              "      <td>0.558140</td>\n",
              "      <td>7</td>\n",
              "    </tr>\n",
              "    <tr>\n",
              "      <th>7</th>\n",
              "      <td>0.233074</td>\n",
              "      <td>0.936508</td>\n",
              "      <td>1.068889</td>\n",
              "      <td>0.581395</td>\n",
              "      <td>8</td>\n",
              "    </tr>\n",
              "    <tr>\n",
              "      <th>8</th>\n",
              "      <td>0.212925</td>\n",
              "      <td>0.952381</td>\n",
              "      <td>1.008366</td>\n",
              "      <td>0.511628</td>\n",
              "      <td>9</td>\n",
              "    </tr>\n",
              "    <tr>\n",
              "      <th>9</th>\n",
              "      <td>0.080276</td>\n",
              "      <td>1.000000</td>\n",
              "      <td>1.455997</td>\n",
              "      <td>0.558140</td>\n",
              "      <td>10</td>\n",
              "    </tr>\n",
              "    <tr>\n",
              "      <th>10</th>\n",
              "      <td>0.042909</td>\n",
              "      <td>1.000000</td>\n",
              "      <td>1.416002</td>\n",
              "      <td>0.558140</td>\n",
              "      <td>11</td>\n",
              "    </tr>\n",
              "  </tbody>\n",
              "</table>\n",
              "</div>\n",
              "      <button class=\"colab-df-convert\" onclick=\"convertToInteractive('df-4715338c-c77f-4135-a2e2-7a743e8f21ae')\"\n",
              "              title=\"Convert this dataframe to an interactive table.\"\n",
              "              style=\"display:none;\">\n",
              "        \n",
              "  <svg xmlns=\"http://www.w3.org/2000/svg\" height=\"24px\"viewBox=\"0 0 24 24\"\n",
              "       width=\"24px\">\n",
              "    <path d=\"M0 0h24v24H0V0z\" fill=\"none\"/>\n",
              "    <path d=\"M18.56 5.44l.94 2.06.94-2.06 2.06-.94-2.06-.94-.94-2.06-.94 2.06-2.06.94zm-11 1L8.5 8.5l.94-2.06 2.06-.94-2.06-.94L8.5 2.5l-.94 2.06-2.06.94zm10 10l.94 2.06.94-2.06 2.06-.94-2.06-.94-.94-2.06-.94 2.06-2.06.94z\"/><path d=\"M17.41 7.96l-1.37-1.37c-.4-.4-.92-.59-1.43-.59-.52 0-1.04.2-1.43.59L10.3 9.45l-7.72 7.72c-.78.78-.78 2.05 0 2.83L4 21.41c.39.39.9.59 1.41.59.51 0 1.02-.2 1.41-.59l7.78-7.78 2.81-2.81c.8-.78.8-2.07 0-2.86zM5.41 20L4 18.59l7.72-7.72 1.47 1.35L5.41 20z\"/>\n",
              "  </svg>\n",
              "      </button>\n",
              "      \n",
              "  <style>\n",
              "    .colab-df-container {\n",
              "      display:flex;\n",
              "      flex-wrap:wrap;\n",
              "      gap: 12px;\n",
              "    }\n",
              "\n",
              "    .colab-df-convert {\n",
              "      background-color: #E8F0FE;\n",
              "      border: none;\n",
              "      border-radius: 50%;\n",
              "      cursor: pointer;\n",
              "      display: none;\n",
              "      fill: #1967D2;\n",
              "      height: 32px;\n",
              "      padding: 0 0 0 0;\n",
              "      width: 32px;\n",
              "    }\n",
              "\n",
              "    .colab-df-convert:hover {\n",
              "      background-color: #E2EBFA;\n",
              "      box-shadow: 0px 1px 2px rgba(60, 64, 67, 0.3), 0px 1px 3px 1px rgba(60, 64, 67, 0.15);\n",
              "      fill: #174EA6;\n",
              "    }\n",
              "\n",
              "    [theme=dark] .colab-df-convert {\n",
              "      background-color: #3B4455;\n",
              "      fill: #D2E3FC;\n",
              "    }\n",
              "\n",
              "    [theme=dark] .colab-df-convert:hover {\n",
              "      background-color: #434B5C;\n",
              "      box-shadow: 0px 1px 3px 1px rgba(0, 0, 0, 0.15);\n",
              "      filter: drop-shadow(0px 1px 2px rgba(0, 0, 0, 0.3));\n",
              "      fill: #FFFFFF;\n",
              "    }\n",
              "  </style>\n",
              "\n",
              "      <script>\n",
              "        const buttonEl =\n",
              "          document.querySelector('#df-4715338c-c77f-4135-a2e2-7a743e8f21ae button.colab-df-convert');\n",
              "        buttonEl.style.display =\n",
              "          google.colab.kernel.accessAllowed ? 'block' : 'none';\n",
              "\n",
              "        async function convertToInteractive(key) {\n",
              "          const element = document.querySelector('#df-4715338c-c77f-4135-a2e2-7a743e8f21ae');\n",
              "          const dataTable =\n",
              "            await google.colab.kernel.invokeFunction('convertToInteractive',\n",
              "                                                     [key], {});\n",
              "          if (!dataTable) return;\n",
              "\n",
              "          const docLinkHtml = 'Like what you see? Visit the ' +\n",
              "            '<a target=\"_blank\" href=https://colab.research.google.com/notebooks/data_table.ipynb>data table notebook</a>'\n",
              "            + ' to learn more about interactive tables.';\n",
              "          element.innerHTML = '';\n",
              "          dataTable['output_type'] = 'display_data';\n",
              "          await google.colab.output.renderOutput(dataTable, element);\n",
              "          const docLink = document.createElement('div');\n",
              "          docLink.innerHTML = docLinkHtml;\n",
              "          element.appendChild(docLink);\n",
              "        }\n",
              "      </script>\n",
              "    </div>\n",
              "  </div>\n",
              "  "
            ]
          },
          "metadata": {},
          "execution_count": 30
        }
      ]
    }
  ]
}