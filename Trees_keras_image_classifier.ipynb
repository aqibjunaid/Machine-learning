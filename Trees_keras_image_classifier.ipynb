{
  "nbformat": 4,
  "nbformat_minor": 0,
  "metadata": {
    "colab": {
      "name": "Trees_keras_image_classifier.ipynb",
      "provenance": [],
      "collapsed_sections": [],
      "authorship_tag": "ABX9TyMJ5MdxWrVZ+5dIGRGRmNlk",
      "include_colab_link": true
    },
    "kernelspec": {
      "name": "python3",
      "display_name": "Python 3"
    },
    "language_info": {
      "name": "python"
    },
    "accelerator": "GPU"
  },
  "cells": [
    {
      "cell_type": "markdown",
      "metadata": {
        "id": "view-in-github",
        "colab_type": "text"
      },
      "source": [
        "<a href=\"https://colab.research.google.com/github/aqibjunaid/Machine-learning/blob/main/Trees_keras_image_classifier.ipynb\" target=\"_parent\"><img src=\"https://colab.research.google.com/assets/colab-badge.svg\" alt=\"Open In Colab\"/></a>"
      ]
    },
    {
      "cell_type": "code",
      "source": [
        "import os\n",
        "import shutil"
      ],
      "metadata": {
        "id": "kXzqO_YnbIbX"
      },
      "execution_count": 1,
      "outputs": []
    },
    {
      "cell_type": "code",
      "source": [
        "class_0 = [i for i in os.listdir() if i[-5:] == '0.jpg']\n",
        "class_1 = [i for i in os.listdir() if i[-5:] == '1.jpg']"
      ],
      "metadata": {
        "id": "6X7kR0pUbLxq"
      },
      "execution_count": 2,
      "outputs": []
    },
    {
      "cell_type": "code",
      "source": [
        "all_classes = [class_0, class_1]"
      ],
      "metadata": {
        "id": "8be2ui8yd5Hx"
      },
      "execution_count": 3,
      "outputs": []
    },
    {
      "cell_type": "code",
      "source": [
        "import numpy as np\n",
        "import matplotlib.pyplot as plt\n",
        "import os\n",
        "import cv2\n",
        "from tqdm import tqdm"
      ],
      "metadata": {
        "id": "gBF_RlDAcl9K"
      },
      "execution_count": 4,
      "outputs": []
    },
    {
      "cell_type": "code",
      "execution_count": 5,
      "metadata": {
        "id": "qWUPLiL0W4CW"
      },
      "outputs": [],
      "source": [
        "IMG_SIZE = 100\n",
        "\n",
        "training_data = []\n",
        "\n",
        "def create_training_data():\n",
        "    for category in [0,1]:  # do for label 0 and 1\n",
        "\n",
        "        for img in all_classes[category]:  # iterate over each image per labels assigned\n",
        "            try:\n",
        "                img_array = cv2.imread(img)  # convert to array\n",
        "                new_array = cv2.resize(img_array, (IMG_SIZE, IMG_SIZE))  # resize to normalize data size\n",
        "                training_data.append([new_array, category])  # add this to our training_data\n",
        "            except Exception as e:  # in the interest in keeping the output clean...\n",
        "                pass\n",
        "            \n",
        "create_training_data()"
      ]
    },
    {
      "cell_type": "code",
      "source": [
        "import random\n",
        "random.shuffle(training_data)"
      ],
      "metadata": {
        "id": "zBIu-nekejn0"
      },
      "execution_count": 6,
      "outputs": []
    },
    {
      "cell_type": "code",
      "source": [
        "len(training_data)"
      ],
      "metadata": {
        "colab": {
          "base_uri": "https://localhost:8080/"
        },
        "id": "bgnpWVeDen2j",
        "outputId": "cad97706-003d-49e4-cb61-38100f704c55"
      },
      "execution_count": 7,
      "outputs": [
        {
          "output_type": "execute_result",
          "data": {
            "text/plain": [
              "106"
            ]
          },
          "metadata": {},
          "execution_count": 7
        }
      ]
    },
    {
      "cell_type": "code",
      "source": [
        "X = []\n",
        "y = []\n",
        "\n",
        "for features,label in training_data:\n",
        "    X.append(features)\n",
        "    y.append(label)\n",
        "\n",
        "X = np.array(X).reshape(-1, IMG_SIZE, IMG_SIZE, 3)\n",
        "y = np.array(y)"
      ],
      "metadata": {
        "id": "CPJvD0lQfrlv"
      },
      "execution_count": 8,
      "outputs": []
    },
    {
      "cell_type": "code",
      "source": [
        "import pickle\n",
        "\n",
        "pickle_out = open(\"X.pickle\",\"wb\")\n",
        "pickle.dump(X, pickle_out)\n",
        "pickle_out.close()\n",
        "\n",
        "pickle_out = open(\"y.pickle\",\"wb\")\n",
        "pickle.dump(y, pickle_out)\n",
        "pickle_out.close()"
      ],
      "metadata": {
        "id": "kYskJ7vFgNNy"
      },
      "execution_count": 9,
      "outputs": []
    },
    {
      "cell_type": "code",
      "source": [
        "from keras.models import Sequential\n",
        "from keras.layers import Dense, Dropout, Activation, Flatten\n",
        "from keras.layers import Conv2D, MaxPooling2D\n",
        "import keras\n",
        "\n",
        "import pickle\n",
        "\n",
        "pickle_in = open(\"X.pickle\",\"rb\")\n",
        "X = pickle.load(pickle_in)\n",
        "\n",
        "pickle_in = open(\"y.pickle\",\"rb\")\n",
        "y = pickle.load(pickle_in)\n",
        "# y = np.array(y)\n",
        "\n",
        "X = X/255.0\n",
        "\n",
        "model = Sequential()\n",
        "\n",
        "model.add(Conv2D(256, (3, 3), input_shape=X.shape[1:]))\n",
        "model.add(Activation('relu'))\n",
        "model.add(MaxPooling2D(pool_size=(2, 2)))\n",
        "\n",
        "model.add(Conv2D(256, (3, 3)))\n",
        "model.add(Activation('relu'))\n",
        "model.add(MaxPooling2D(pool_size=(2, 2)))\n",
        "\n",
        "model.add(Flatten())  # this converts our 3D feature maps to 1D feature vectors\n",
        "\n",
        "model.add(Dense(64))\n",
        "\n",
        "model.add(Dense(1))\n",
        "model.add(Activation('sigmoid'))\n",
        "\n",
        "model.compile(loss='binary_crossentropy',\n",
        "              optimizer='adam',\n",
        "              metrics=['accuracy'])\n",
        "callback = keras.callbacks.EarlyStopping(monitor='val_accuracy', patience=10)\n",
        "history = model.fit(X, y, batch_size=4, epochs=100, validation_split=0.3, callbacks=[callback])\n",
        "\n"
      ],
      "metadata": {
        "colab": {
          "base_uri": "https://localhost:8080/"
        },
        "id": "4p8WoE1mgcME",
        "outputId": "9276ada0-2523-44ed-dcf1-9812f0d63d55"
      },
      "execution_count": 10,
      "outputs": [
        {
          "output_type": "stream",
          "name": "stdout",
          "text": [
            "Epoch 1/100\n",
            "19/19 [==============================] - 12s 71ms/step - loss: 9.2977 - accuracy: 0.5676 - val_loss: 0.5410 - val_accuracy: 0.7812\n",
            "Epoch 2/100\n",
            "19/19 [==============================] - 1s 39ms/step - loss: 0.6291 - accuracy: 0.7027 - val_loss: 0.5590 - val_accuracy: 0.7812\n",
            "Epoch 3/100\n",
            "19/19 [==============================] - 1s 38ms/step - loss: 0.5679 - accuracy: 0.7027 - val_loss: 0.6068 - val_accuracy: 0.7500\n",
            "Epoch 4/100\n",
            "19/19 [==============================] - 1s 39ms/step - loss: 0.4496 - accuracy: 0.8108 - val_loss: 0.4802 - val_accuracy: 0.7188\n",
            "Epoch 5/100\n",
            "19/19 [==============================] - 1s 42ms/step - loss: 0.2794 - accuracy: 0.8649 - val_loss: 0.5896 - val_accuracy: 0.6875\n",
            "Epoch 6/100\n",
            "19/19 [==============================] - 1s 41ms/step - loss: 0.1336 - accuracy: 0.9595 - val_loss: 1.5544 - val_accuracy: 0.5938\n",
            "Epoch 7/100\n",
            "19/19 [==============================] - 1s 39ms/step - loss: 0.1842 - accuracy: 0.9459 - val_loss: 1.1168 - val_accuracy: 0.5938\n",
            "Epoch 8/100\n",
            "19/19 [==============================] - 1s 39ms/step - loss: 0.1270 - accuracy: 0.9459 - val_loss: 1.0561 - val_accuracy: 0.6875\n",
            "Epoch 9/100\n",
            "19/19 [==============================] - 1s 42ms/step - loss: 0.1014 - accuracy: 0.9595 - val_loss: 0.8593 - val_accuracy: 0.5938\n",
            "Epoch 10/100\n",
            "19/19 [==============================] - 1s 39ms/step - loss: 0.0755 - accuracy: 0.9730 - val_loss: 1.1577 - val_accuracy: 0.6250\n",
            "Epoch 11/100\n",
            "19/19 [==============================] - 1s 39ms/step - loss: 0.0394 - accuracy: 0.9865 - val_loss: 1.6070 - val_accuracy: 0.6562\n"
          ]
        }
      ]
    },
    {
      "cell_type": "code",
      "source": [
        "y"
      ],
      "metadata": {
        "colab": {
          "base_uri": "https://localhost:8080/"
        },
        "id": "EPc2LRfejF3h",
        "outputId": "0013dc76-f93f-4b53-fcad-4b81f6fa9400"
      },
      "execution_count": 20,
      "outputs": [
        {
          "output_type": "execute_result",
          "data": {
            "text/plain": [
              "array([0, 0, 0, 1, 1, 0, 0, 0, 0, 0, 1, 0, 1, 1, 1, 1, 0, 0, 0, 0, 1, 1,\n",
              "       0, 0, 1, 0, 0, 1, 0, 0, 0, 0, 0, 1, 0, 0, 1, 0, 0, 1, 1, 1, 0, 0,\n",
              "       0, 0, 0, 0, 1, 0, 0, 0, 0, 0, 1, 0, 1, 0, 0, 1, 0, 0, 0, 0, 0, 1,\n",
              "       0, 0, 0, 0, 0, 0, 0, 0, 1, 0, 0, 0, 1, 0, 0, 0, 1, 0, 0, 0, 0, 1,\n",
              "       0, 1, 0, 0, 0, 1, 0, 0, 0, 0, 0, 0, 0, 1, 1, 0, 0, 0])"
            ]
          },
          "metadata": {},
          "execution_count": 20
        }
      ]
    },
    {
      "cell_type": "code",
      "source": [
        "from sklearn.metrics import accuracy_score, f1_score\n",
        "accuracy_score(model.predict(X).round(), y)"
      ],
      "metadata": {
        "colab": {
          "base_uri": "https://localhost:8080/"
        },
        "id": "SGzFHCfrrnHI",
        "outputId": "cb358936-398f-4946-f02a-e623ce50b71b"
      },
      "execution_count": 11,
      "outputs": [
        {
          "output_type": "execute_result",
          "data": {
            "text/plain": [
              "0.8962264150943396"
            ]
          },
          "metadata": {},
          "execution_count": 11
        }
      ]
    },
    {
      "cell_type": "code",
      "source": [
        "f1_score(y, model.predict(X).round(), average='micro')"
      ],
      "metadata": {
        "colab": {
          "base_uri": "https://localhost:8080/"
        },
        "id": "K8U6OcxwiXMR",
        "outputId": "beab3159-bdf6-4c16-d189-01f35c36b276"
      },
      "execution_count": 12,
      "outputs": [
        {
          "output_type": "execute_result",
          "data": {
            "text/plain": [
              "0.8962264150943396"
            ]
          },
          "metadata": {},
          "execution_count": 12
        }
      ]
    },
    {
      "cell_type": "code",
      "source": [
        "import pandas as pd\n",
        "df = pd.DataFrame(history.history)"
      ],
      "metadata": {
        "id": "17WmkQMoh10v"
      },
      "execution_count": 13,
      "outputs": []
    },
    {
      "cell_type": "code",
      "source": [
        "df['epoch'] = list(range(1, len(df) +1))"
      ],
      "metadata": {
        "id": "rhGwjq1ksB6p"
      },
      "execution_count": 14,
      "outputs": []
    },
    {
      "cell_type": "code",
      "source": [
        "plt.plot(df.epoch, df.accuracy, label ='accuracy')\n",
        "plt.plot(df.epoch, df.val_accuracy, label ='validation_accuracy')\n",
        "plt.plot(df.epoch, df.loss, label = 'loss')\n",
        "plt.legend()\n"
      ],
      "metadata": {
        "colab": {
          "base_uri": "https://localhost:8080/",
          "height": 282
        },
        "id": "2DmrvEZssSwh",
        "outputId": "1d0478cd-e3b1-481c-e2a1-d02db3bf604a"
      },
      "execution_count": 20,
      "outputs": [
        {
          "output_type": "execute_result",
          "data": {
            "text/plain": [
              "<matplotlib.legend.Legend at 0x7f0fbfd6ee90>"
            ]
          },
          "metadata": {},
          "execution_count": 20
        },
        {
          "output_type": "display_data",
          "data": {
            "text/plain": [
              "<Figure size 432x288 with 1 Axes>"
            ],
            "image/png": "[encoded data removed]"
          },
          "metadata": {
            "needs_background": "light"
          }
        }
      ]
    },
    {
      "cell_type": "code",
      "source": [
        "32 * .8125"
      ],
      "metadata": {
        "id": "_pGzbgPLwH1i",
        "colab": {
          "base_uri": "https://localhost:8080/"
        },
        "outputId": "31b331a3-abd5-4a7a-9b9c-7fdb828da8df"
      },
      "execution_count": 25,
      "outputs": [
        {
          "output_type": "execute_result",
          "data": {
            "text/plain": [
              "26.0"
            ]
          },
          "metadata": {},
          "execution_count": 25
        }
      ]
    },
    {
      "cell_type": "code",
      "source": [
        "df"
      ],
      "metadata": {
        "colab": {
          "base_uri": "https://localhost:8080/",
          "height": 343
        },
        "id": "0T-hkko_vVm-",
        "outputId": "38193542-a224-4786-ada7-27e172484779"
      },
      "execution_count": 18,
      "outputs": [
        {
          "output_type": "execute_result",
          "data": {
            "text/plain": [
              "        loss  accuracy  val_loss  val_accuracy  epoch\n",
              "0   9.297658  0.567568  0.540986       0.78125      1\n",
              "1   0.629058  0.702703  0.559001       0.78125      2\n",
              "2   0.567884  0.702703  0.606811       0.75000      3\n",
              "3   0.449606  0.810811  0.480164       0.71875      4\n",
              "4   0.279367  0.864865  0.589637       0.68750      5\n",
              "5   0.133580  0.959459  1.554409       0.59375      6\n",
              "6   0.184242  0.945946  1.116803       0.59375      7\n",
              "7   0.126996  0.945946  1.056145       0.68750      8\n",
              "8   0.101376  0.959459  0.859315       0.59375      9\n",
              "9   0.075512  0.972973  1.157745       0.62500     10\n",
              "10  0.039406  0.986486  1.606983       0.65625     11"
            ],
            "text/html": [
              "\n",
              "  <div id=\"df-f4bd4a8b-405e-4570-af7c-e077d676a8ea\">\n",
              "    <div class=\"colab-df-container\">\n",
              "      <div>\n",
              "<style scoped>\n",
              "    .dataframe tbody tr th:only-of-type {\n",
              "        vertical-align: middle;\n",
              "    }\n",
              "\n",
              "    .dataframe tbody tr th {\n",
              "        vertical-align: top;\n",
              "    }\n",
              "\n",
              "    .dataframe thead th {\n",
              "        text-align: right;\n",
              "    }\n",
              "</style>\n",
              "<table border=\"1\" class=\"dataframe\">\n",
              "  <thead>\n",
              "    <tr style=\"text-align: right;\">\n",
              "      <th></th>\n",
              "      <th>loss</th>\n",
              "      <th>accuracy</th>\n",
              "      <th>val_loss</th>\n",
              "      <th>val_accuracy</th>\n",
              "      <th>epoch</th>\n",
              "    </tr>\n",
              "  </thead>\n",
              "  <tbody>\n",
              "    <tr>\n",
              "      <th>0</th>\n",
              "      <td>9.297658</td>\n",
              "      <td>0.567568</td>\n",
              "      <td>0.540986</td>\n",
              "      <td>0.78125</td>\n",
              "      <td>1</td>\n",
              "    </tr>\n",
              "    <tr>\n",
              "      <th>1</th>\n",
              "      <td>0.629058</td>\n",
              "      <td>0.702703</td>\n",
              "      <td>0.559001</td>\n",
              "      <td>0.78125</td>\n",
              "      <td>2</td>\n",
              "    </tr>\n",
              "    <tr>\n",
              "      <th>2</th>\n",
              "      <td>0.567884</td>\n",
              "      <td>0.702703</td>\n",
              "      <td>0.606811</td>\n",
              "      <td>0.75000</td>\n",
              "      <td>3</td>\n",
              "    </tr>\n",
              "    <tr>\n",
              "      <th>3</th>\n",
              "      <td>0.449606</td>\n",
              "      <td>0.810811</td>\n",
              "      <td>0.480164</td>\n",
              "      <td>0.71875</td>\n",
              "      <td>4</td>\n",
              "    </tr>\n",
              "    <tr>\n",
              "      <th>4</th>\n",
              "      <td>0.279367</td>\n",
              "      <td>0.864865</td>\n",
              "      <td>0.589637</td>\n",
              "      <td>0.68750</td>\n",
              "      <td>5</td>\n",
              "    </tr>\n",
              "    <tr>\n",
              "      <th>5</th>\n",
              "      <td>0.133580</td>\n",
              "      <td>0.959459</td>\n",
              "      <td>1.554409</td>\n",
              "      <td>0.59375</td>\n",
              "      <td>6</td>\n",
              "    </tr>\n",
              "    <tr>\n",
              "      <th>6</th>\n",
              "      <td>0.184242</td>\n",
              "      <td>0.945946</td>\n",
              "      <td>1.116803</td>\n",
              "      <td>0.59375</td>\n",
              "      <td>7</td>\n",
              "    </tr>\n",
              "    <tr>\n",
              "      <th>7</th>\n",
              "      <td>0.126996</td>\n",
              "      <td>0.945946</td>\n",
              "      <td>1.056145</td>\n",
              "      <td>0.68750</td>\n",
              "      <td>8</td>\n",
              "    </tr>\n",
              "    <tr>\n",
              "      <th>8</th>\n",
              "      <td>0.101376</td>\n",
              "      <td>0.959459</td>\n",
              "      <td>0.859315</td>\n",
              "      <td>0.59375</td>\n",
              "      <td>9</td>\n",
              "    </tr>\n",
              "    <tr>\n",
              "      <th>9</th>\n",
              "      <td>0.075512</td>\n",
              "      <td>0.972973</td>\n",
              "      <td>1.157745</td>\n",
              "      <td>0.62500</td>\n",
              "      <td>10</td>\n",
              "    </tr>\n",
              "    <tr>\n",
              "      <th>10</th>\n",
              "      <td>0.039406</td>\n",
              "      <td>0.986486</td>\n",
              "      <td>1.606983</td>\n",
              "      <td>0.65625</td>\n",
              "      <td>11</td>\n",
              "    </tr>\n",
              "  </tbody>\n",
              "</table>\n",
              "</div>\n",
              "      <button class=\"colab-df-convert\" onclick=\"convertToInteractive('df-f4bd4a8b-405e-4570-af7c-e077d676a8ea')\"\n",
              "              title=\"Convert this dataframe to an interactive table.\"\n",
              "              style=\"display:none;\">\n",
              "        \n",
              "  <svg xmlns=\"http://www.w3.org/2000/svg\" height=\"24px\"viewBox=\"0 0 24 24\"\n",
              "       width=\"24px\">\n",
              "    <path d=\"M0 0h24v24H0V0z\" fill=\"none\"/>\n",
              "    <path d=\"M18.56 5.44l.94 2.06.94-2.06 2.06-.94-2.06-.94-.94-2.06-.94 2.06-2.06.94zm-11 1L8.5 8.5l.94-2.06 2.06-.94-2.06-.94L8.5 2.5l-.94 2.06-2.06.94zm10 10l.94 2.06.94-2.06 2.06-.94-2.06-.94-.94-2.06-.94 2.06-2.06.94z\"/><path d=\"M17.41 7.96l-1.37-1.37c-.4-.4-.92-.59-1.43-.59-.52 0-1.04.2-1.43.59L10.3 9.45l-7.72 7.72c-.78.78-.78 2.05 0 2.83L4 21.41c.39.39.9.59 1.41.59.51 0 1.02-.2 1.41-.59l7.78-7.78 2.81-2.81c.8-.78.8-2.07 0-2.86zM5.41 20L4 18.59l7.72-7.72 1.47 1.35L5.41 20z\"/>\n",
              "  </svg>\n",
              "      </button>\n",
              "      \n",
              "  <style>\n",
              "    .colab-df-container {\n",
              "      display:flex;\n",
              "      flex-wrap:wrap;\n",
              "      gap: 12px;\n",
              "    }\n",
              "\n",
              "    .colab-df-convert {\n",
              "      background-color: #E8F0FE;\n",
              "      border: none;\n",
              "      border-radius: 50%;\n",
              "      cursor: pointer;\n",
              "      display: none;\n",
              "      fill: #1967D2;\n",
              "      height: 32px;\n",
              "      padding: 0 0 0 0;\n",
              "      width: 32px;\n",
              "    }\n",
              "\n",
              "    .colab-df-convert:hover {\n",
              "      background-color: #E2EBFA;\n",
              "      box-shadow: 0px 1px 2px rgba(60, 64, 67, 0.3), 0px 1px 3px 1px rgba(60, 64, 67, 0.15);\n",
              "      fill: #174EA6;\n",
              "    }\n",
              "\n",
              "    [theme=dark] .colab-df-convert {\n",
              "      background-color: #3B4455;\n",
              "      fill: #D2E3FC;\n",
              "    }\n",
              "\n",
              "    [theme=dark] .colab-df-convert:hover {\n",
              "      background-color: #434B5C;\n",
              "      box-shadow: 0px 1px 3px 1px rgba(0, 0, 0, 0.15);\n",
              "      filter: drop-shadow(0px 1px 2px rgba(0, 0, 0, 0.3));\n",
              "      fill: #FFFFFF;\n",
              "    }\n",
              "  </style>\n",
              "\n",
              "      <script>\n",
              "        const buttonEl =\n",
              "          document.querySelector('#df-f4bd4a8b-405e-4570-af7c-e077d676a8ea button.colab-df-convert');\n",
              "        buttonEl.style.display =\n",
              "          google.colab.kernel.accessAllowed ? 'block' : 'none';\n",
              "\n",
              "        async function convertToInteractive(key) {\n",
              "          const element = document.querySelector('#df-f4bd4a8b-405e-4570-af7c-e077d676a8ea');\n",
              "          const dataTable =\n",
              "            await google.colab.kernel.invokeFunction('convertToInteractive',\n",
              "                                                     [key], {});\n",
              "          if (!dataTable) return;\n",
              "\n",
              "          const docLinkHtml = 'Like what you see? Visit the ' +\n",
              "            '<a target=\"_blank\" href=https://colab.research.google.com/notebooks/data_table.ipynb>data table notebook</a>'\n",
              "            + ' to learn more about interactive tables.';\n",
              "          element.innerHTML = '';\n",
              "          dataTable['output_type'] = 'display_data';\n",
              "          await google.colab.output.renderOutput(dataTable, element);\n",
              "          const docLink = document.createElement('div');\n",
              "          docLink.innerHTML = docLinkHtml;\n",
              "          element.appendChild(docLink);\n",
              "        }\n",
              "      </script>\n",
              "    </div>\n",
              "  </div>\n",
              "  "
            ]
          },
          "metadata": {},
          "execution_count": 18
        }
      ]
    },
    {
      "cell_type": "code",
      "source": [
        ""
      ],
      "metadata": {
        "id": "fIQp-xNNwIHb"
      },
      "execution_count": null,
      "outputs": []
    }
  ]
}